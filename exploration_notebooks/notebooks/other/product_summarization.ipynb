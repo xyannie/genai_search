{
 "cells": [
  {
   "cell_type": "code",
   "execution_count": 2,
   "metadata": {},
   "outputs": [
    {
     "name": "stderr",
     "output_type": "stream",
     "text": [
      "/Users/xlim/anaconda3/envs/gai_srch_summarization_p39/lib/python3.9/site-packages/fuzzywuzzy/fuzz.py:11: UserWarning: Using slow pure-python SequenceMatcher. Install python-Levenshtein to remove this warning\n",
      "  warnings.warn('Using slow pure-python SequenceMatcher. Install python-Levenshtein to remove this warning')\n",
      "/Users/xlim/anaconda3/envs/gai_srch_summarization_p39/lib/python3.9/site-packages/tqdm/auto.py:21: TqdmWarning: IProgress not found. Please update jupyter and ipywidgets. See https://ipywidgets.readthedocs.io/en/stable/user_install.html\n",
      "  from .autonotebook import tqdm as notebook_tqdm\n"
     ]
    }
   ],
   "source": [
    "import openai\n",
    "from dotenv import find_dotenv, load_dotenv\n",
    "import os\n",
    "from fuzzywuzzy import fuzz\n",
    "import random\n",
    "import pandas as pd\n",
    "import nltk.tokenize \n",
    "\n",
    "from sentence_transformers import SentenceTransformer\n",
    "from sentence_transformers.util import cos_sim"
   ]
  },
  {
   "cell_type": "code",
   "execution_count": 3,
   "metadata": {},
   "outputs": [],
   "source": [
    "\n",
    "PRODUCT_SUMMARY__PROMPT = \"\"\"\n",
    "Product Details:\n",
    "{product_details}\n",
    "\n",
    "Based on the context provided, generate a detailed paragraph summarizing the product with the following information:\n",
    "- What does this product do?\n",
    "- What are the features of this product?\n",
    "- Who is the target audience for this product?\n",
    "\"\"\""
   ]
  },
  {
   "cell_type": "code",
   "execution_count": 4,
   "metadata": {},
   "outputs": [],
   "source": [
    "#functions\n",
    "def get_gpt_response(prompt, temperature=1.0, model = \"gpt-3.5-turbo\"):\n",
    "    CHAT_COMPLETION_MODEL = model\n",
    "\n",
    "    CHAT_COMPLETION_API_PARAMS = {\n",
    "        # use temperature of 0.0 to give the most predictable, factual answer.\n",
    "        # tweak temperature based on your use case\n",
    "        \"temperature\": temperature,\n",
    "        \"model\": CHAT_COMPLETION_MODEL,\n",
    "    }\n",
    "\n",
    "    messages = [\n",
    "        {\"role\": \"user\", \"content\": prompt},\n",
    "    ]\n",
    "\n",
    "    response = openai.ChatCompletion.create(\n",
    "        messages=messages, **CHAT_COMPLETION_API_PARAMS\n",
    "    )\n",
    "\n",
    "    response_content = response[\"choices\"][0][\"message\"][\"content\"]\n",
    "\n",
    "    return response, response_content\n",
    "\n",
    "def read_file_content(file_path):\n",
    "    \"\"\"\n",
    "    read the content of the context files\n",
    "    \"\"\"\n",
    "    with open(file_path, 'r') as file:\n",
    "        file_content = file.read()\n",
    "    return file_content\n",
    "\n"
   ]
  },
  {
   "cell_type": "code",
   "execution_count": 5,
   "metadata": {},
   "outputs": [
    {
     "name": "stdout",
     "output_type": "stream",
     "text": [
      "roarmoney.txt\n",
      "RoarMoney is a mobile bank account that aims to empower cash-strapped, tech-savvy millennials to take control of their finances. It offers a comprehensive banking solution with no hidden fees, providing users with physical and digital debit cards, the ability to get paid up to 2 days early and access up to $1,000 in interest-free cash advances. The account also offers instant money movement and rewards on spending. The target audience for this product is millennials living paycheck-to-paycheck, often working in the gig economy, and experiencing fluctuations in their income. These individuals are looking for ways to manage their money effectively and break free from the vicious cycle of financial insecurity. RoarMoney aims to provide them with affordable banking services and tools to build financial power and wealth.\n",
      "length_of_response:  827\n",
      "wow_membership.txt\n",
      "MoneyLion WOW is a membership that offers users a premium experience with exclusive benefits across a range of products, content, rewards, and offers. For $9.99 a month, users gain access to a membership dashboard featuring weekly live events, exclusive giveaways, money content, and a snapshot of benefits. The Benefits tab showcases all the member-exclusive products and benefits, including the Credit Builder Loan, which helps users build credit and improve their credit scores, and Active Investing, which allows users to build and manage their own custom portfolio of stocks and ETFs. The product aims to reduce churn rate and establish a premium subscription model while building customer loyalty and driving overall user growth. The target audience for MoneyLion WOW includes Gen Z and millennials between the ages of 18 and 40, who have low to moderate incomes and seek to take control of their personal finances and achieve financial independence. The messaging highlights the affordability and accessibility of the product, emphasizing features such as no commission fees on trades, no account minimums, and the ability to start trading with as little as $5. The product also prioritizes safety and security with SIPC insurance and regulation by DriveWealth, as well as the opportunity to grow knowledge through access to live market news and trending content.\n",
      "length_of_response:  1370\n",
      "crypto.txt\n",
      "The MoneyLion crypto product allows users to easily buy and sell popular cryptocurrencies such as Bitcoin, Ethereum, Litecoin, and Bitcoin Cash through the MoneyLion app. The product offers features such as Round Ups, which allows users to invest their spare change from purchases made on their RoarMoney or existing debit or credit card into Bitcoin. Another feature is Auto Invest, which enables users to leverage dollar cost averaging by automatically investing in crypto on a custom schedule. Additionally, MoneyLion Academy provides educational resources within the app to help users learn about cryptocurrencies. The target audience for this product is MoneyLion users who want to invest in popular cryptocurrencies, making investing in crypto easy and accessible for anyone wanting to dip their toes into the crypto market. This product aims to serve as a one-stop destination for all financial needs, providing users with a simple and convenient way to enter the world of cryptocurrencies. The customer pain point this product addresses is the challenge of starting to invest in crypto for the first time, as it simplifies the process and provides educational resources to overcome the hurdles associated with understanding crypto coins, blockchain technology, and wallets.\n",
      "length_of_response:  1281\n",
      "credit_builder_plus.txt\n",
      "The Credit Builder Plus (CB+) product is a credit-building membership service offered by MoneyLion. This product allows users to borrow a small amount of money, make monthly payments, and improve their credit score. With loans of up to $1,000, users can access a portion of the funds upfront to cover urgent expenses. The membership fees and loan payments are aligned with paycheck days to prevent any payment surprises. Additionally, fees can be paid off partly or in full through the LionShare program, where users can earn a portion of their membership fee by being active and spending money with their RoarMoney account. The target audience for this product is young adults between the ages of 18-35 with limited or poor credit history. They may be looking to build or repair their credit score in order to achieve financial goals such as buying a car, renting an apartment, or getting a credit card. This product offers affordability, ease of use, and accessibility, with benefits including the potential to improve credit score, build financial history, and access other financial services.\n",
      "length_of_response:  1096\n",
      "rewards.txt\n",
      "Rewards is a comprehensive platform within MoneyLion that offers users various incentives to earn cashback or points through specific actions. The product is designed to provide a one-stop solution for all things rewards within the MoneyLion ecosystem. One of its main features is Shake ′N′ Bank, where users can earn up to $500 daily simply by shaking their phone. By spending $10 or more, users can receive cash rewards and have the opportunity to earn up to five times the value of their purchase. Additionally, Rewards offers online cash back deals from popular merchants such as Walgreens, Sam's Club, Groupon, and DoorDash directly through the MoneyLion app. Users can activate these offers, shop using their MoneyLion Debit Mastercard or RoarMoney virtual card, and earn rewards points. Once they accumulate 2,500 points, they can redeem them for a $25 cash deposit into their MoneyLion Investment Account. The target audience for this product includes MoneyLion users who are looking to maximize their rewards and earn cashback or points while making everyday purchases and transactions.\n",
      "length_of_response:  1095\n",
      "instacash.txt\n",
      "Instacash is a convenient and fast advance service provided by MoneyLion that allows customers to access funds up to a set limit based on their anticipated future direct deposits. The product aims to provide immediate cash flow to cash-strapped millennials who live paycheck-to-paycheck and may experience deficits and limited surplus. The target audience consists of tech-savvy individuals with an average income of approximately $2000/month, who are often gig economy workers or unemployed. The product addresses the pain point of these customers by offering an affordable and benefit-rich mobile bank account, eliminating the need to rely on expensive credit payday lenders. The features of Instacash include quick access to 0% APR cash advances with no credit check, no interest, and no monthly fees. Customers can receive cash within minutes and have the option to expedite the funds for a small fee when needed urgently. The repayment options are flexible, allowing users to select their own repayment date based on their paycheck. By signing up for MoneyLion Banking, customers can unlock up to $1,000 in 0% APR cash advances. Overall, Instacash provides a short-term cash solution while guiding customers towards financial independence.\n",
      "length_of_response:  1244\n"
     ]
    }
   ],
   "source": [
    "df_product_summary = pd.DataFrame(columns=['product_name', 'product_summary'])\n",
    "# for each txt file in the context_store folder, call the summarization_main function\n",
    "for file in os.listdir(\"../context_store\"):\n",
    "    if file.endswith(\".txt\"):\n",
    "        print(file)\n",
    "        file_content = read_file_content(os.path.join(\"../context_store\", file))\n",
    "        prompt = PRODUCT_SUMMARY__PROMPT.format(product_details=file_content)\n",
    "        response, response_content = get_gpt_response(prompt)\n",
    "        print(response_content)\n",
    "        print('length_of_response: ', len(response_content))\n",
    "        #store into df\n",
    "        df_data = pd.DataFrame({'product_name': [file], 'product_summary': [response_content]})\n",
    "        df_product_summary = pd.concat([df_product_summary, df_data], ignore_index=True)"
   ]
  },
  {
   "cell_type": "code",
   "execution_count": 6,
   "metadata": {},
   "outputs": [],
   "source": [
    "df_product_summary.to_csv('../result_files/product_summary.csv', index=False)"
   ]
  }
 ],
 "metadata": {
  "kernelspec": {
   "display_name": "gai_srch_summarization_p39",
   "language": "python",
   "name": "python3"
  },
  "language_info": {
   "codemirror_mode": {
    "name": "ipython",
    "version": 3
   },
   "file_extension": ".py",
   "mimetype": "text/x-python",
   "name": "python",
   "nbconvert_exporter": "python",
   "pygments_lexer": "ipython3",
   "version": "3.9.18"
  }
 },
 "nbformat": 4,
 "nbformat_minor": 2
}
