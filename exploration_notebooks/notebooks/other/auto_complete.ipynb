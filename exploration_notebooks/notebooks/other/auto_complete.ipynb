{
 "cells": [
  {
   "cell_type": "code",
   "execution_count": 75,
   "metadata": {},
   "outputs": [],
   "source": [
    "from sklearn.metrics.pairwise import cosine_similarity\n",
    "import os\n",
    "import pandas as pd\n",
    "import numpy as np\n",
    "from openai.embeddings_utils import get_embedding"
   ]
  },
  {
   "cell_type": "code",
   "execution_count": 3,
   "metadata": {},
   "outputs": [],
   "source": [
    "class TrieNode:\n",
    "    def __init__(self):\n",
    "        self.children = {}\n",
    "        self.is_end_of_word = False\n",
    "\n",
    "class Trie:\n",
    "    def __init__(self):\n",
    "        self.root = TrieNode()\n",
    "\n",
    "    def insert(self, word):\n",
    "        node = self.root\n",
    "        for char in word:\n",
    "            if char not in node.children:\n",
    "                node.children[char] = TrieNode()\n",
    "            node = node.children[char]\n",
    "        node.is_end_of_word = True\n",
    "\n",
    "    def autocomplete(self, prefix):\n",
    "        node = self.root\n",
    "        for char in prefix:\n",
    "            if char not in node.children:\n",
    "                return []  # No autocomplete suggestions\n",
    "            node = node.children[char]\n",
    "\n",
    "        suggestions = []\n",
    "        self._find_words_with_prefix(node, prefix, suggestions)\n",
    "        return suggestions\n",
    "\n",
    "    def _find_words_with_prefix(self, node, current_prefix, suggestions):\n",
    "        if node.is_end_of_word:\n",
    "            suggestions.append(current_prefix)\n",
    "\n",
    "        for char, child_node in node.children.items():\n",
    "            self._find_words_with_prefix(child_node, current_prefix + char, suggestions)\n"
   ]
  },
  {
   "cell_type": "code",
   "execution_count": 4,
   "metadata": {},
   "outputs": [],
   "source": [
    "# Example usage:\n",
    "trie = Trie()\n",
    "words = [\"roarmoney\", \"instacash\", \"credit\", \"membership\", \"wow\", \"builder\", \"build\"]\n",
    "for word in words:\n",
    "    trie.insert(word)\n"
   ]
  },
  {
   "cell_type": "code",
   "execution_count": 28,
   "metadata": {},
   "outputs": [],
   "source": [
    "def autocomplete_sentence (query):\n",
    "    autocomplete_sentence = []\n",
    "    query = query.split()\n",
    "    for word in query:\n",
    "        if len(word) <= 3:\n",
    "            autocomplete_sentence.append(word)\n",
    "            continue\n",
    "        autocomplete_word = trie.autocomplete(word)\n",
    "        autocomplete_word = autocomplete_word[0] if autocomplete_word else None\n",
    "        if autocomplete_word:\n",
    "            autocomplete_sentence.append(autocomplete_word)\n",
    "        else:\n",
    "            autocomplete_sentence.append(word)\n",
    "    #convert list to str\n",
    "    sentence = \" \".join(autocomplete_sentence)\n",
    "    return sentence"
   ]
  },
  {
   "cell_type": "code",
   "execution_count": 29,
   "metadata": {},
   "outputs": [
    {
     "data": {
      "text/html": [
       "<div>\n",
       "<style scoped>\n",
       "    .dataframe tbody tr th:only-of-type {\n",
       "        vertical-align: middle;\n",
       "    }\n",
       "\n",
       "    .dataframe tbody tr th {\n",
       "        vertical-align: top;\n",
       "    }\n",
       "\n",
       "    .dataframe thead th {\n",
       "        text-align: right;\n",
       "    }\n",
       "</style>\n",
       "<table border=\"1\" class=\"dataframe\">\n",
       "  <thead>\n",
       "    <tr style=\"text-align: right;\">\n",
       "      <th></th>\n",
       "      <th>INPUT</th>\n",
       "      <th>CATEGORY</th>\n",
       "    </tr>\n",
       "  </thead>\n",
       "  <tbody>\n",
       "    <tr>\n",
       "      <th>0</th>\n",
       "      <td>want to put in my new debit c</td>\n",
       "      <td>Other</td>\n",
       "    </tr>\n",
       "    <tr>\n",
       "      <th>1</th>\n",
       "      <td>want to</td>\n",
       "      <td>Other</td>\n",
       "    </tr>\n",
       "    <tr>\n",
       "      <th>2</th>\n",
       "      <td>virtual wallet</td>\n",
       "      <td>roarmoney</td>\n",
       "    </tr>\n",
       "    <tr>\n",
       "      <th>3</th>\n",
       "      <td>vie</td>\n",
       "      <td>Other</td>\n",
       "    </tr>\n",
       "    <tr>\n",
       "      <th>4</th>\n",
       "      <td>switch contact method to</td>\n",
       "      <td>Other</td>\n",
       "    </tr>\n",
       "  </tbody>\n",
       "</table>\n",
       "</div>"
      ],
      "text/plain": [
       "                           INPUT   CATEGORY\n",
       "0  want to put in my new debit c      Other\n",
       "1                        want to      Other\n",
       "2                 virtual wallet  roarmoney\n",
       "3                            vie      Other\n",
       "4       switch contact method to      Other"
      ]
     },
     "execution_count": 29,
     "metadata": {},
     "output_type": "execute_result"
    }
   ],
   "source": [
    "# load in data\n",
    "data_df = pd.read_csv('../input_files/search-query.csv')\n",
    "data_df.head()"
   ]
  },
  {
   "cell_type": "code",
   "execution_count": 34,
   "metadata": {},
   "outputs": [
    {
     "data": {
      "text/html": [
       "<div>\n",
       "<style scoped>\n",
       "    .dataframe tbody tr th:only-of-type {\n",
       "        vertical-align: middle;\n",
       "    }\n",
       "\n",
       "    .dataframe tbody tr th {\n",
       "        vertical-align: top;\n",
       "    }\n",
       "\n",
       "    .dataframe thead th {\n",
       "        text-align: right;\n",
       "    }\n",
       "</style>\n",
       "<table border=\"1\" class=\"dataframe\">\n",
       "  <thead>\n",
       "    <tr style=\"text-align: right;\">\n",
       "      <th></th>\n",
       "      <th>INPUT</th>\n",
       "      <th>CATEGORY</th>\n",
       "      <th>autocomplete</th>\n",
       "    </tr>\n",
       "  </thead>\n",
       "  <tbody>\n",
       "    <tr>\n",
       "      <th>0</th>\n",
       "      <td>want to put in my new debit c</td>\n",
       "      <td>Other</td>\n",
       "      <td>want to put in my new debit c</td>\n",
       "    </tr>\n",
       "    <tr>\n",
       "      <th>1</th>\n",
       "      <td>want to</td>\n",
       "      <td>Other</td>\n",
       "      <td>want to</td>\n",
       "    </tr>\n",
       "    <tr>\n",
       "      <th>2</th>\n",
       "      <td>virtual wallet</td>\n",
       "      <td>roarmoney</td>\n",
       "      <td>virtual wallet</td>\n",
       "    </tr>\n",
       "    <tr>\n",
       "      <th>4</th>\n",
       "      <td>switch contact method to</td>\n",
       "      <td>Other</td>\n",
       "      <td>switch contact method to</td>\n",
       "    </tr>\n",
       "    <tr>\n",
       "      <th>6</th>\n",
       "      <td>stoc</td>\n",
       "      <td>Other</td>\n",
       "      <td>stoc</td>\n",
       "    </tr>\n",
       "  </tbody>\n",
       "</table>\n",
       "</div>"
      ],
      "text/plain": [
       "                           INPUT   CATEGORY                   autocomplete\n",
       "0  want to put in my new debit c      Other  want to put in my new debit c\n",
       "1                        want to      Other                        want to\n",
       "2                 virtual wallet  roarmoney                 virtual wallet\n",
       "4       switch contact method to      Other       switch contact method to\n",
       "6                           stoc      Other                           stoc"
      ]
     },
     "execution_count": 34,
     "metadata": {},
     "output_type": "execute_result"
    }
   ],
   "source": [
    "# in column input, delete rows if len(INPUT) <= 3\n",
    "data_df['INPUT'] = data_df['INPUT'].apply(lambda x: x if len(x) > 3 else None)\n",
    "data_df = data_df.dropna(subset=['INPUT'])\n",
    "data_df.head()"
   ]
  },
  {
   "cell_type": "code",
   "execution_count": 38,
   "metadata": {},
   "outputs": [
    {
     "data": {
      "text/html": [
       "<div>\n",
       "<style scoped>\n",
       "    .dataframe tbody tr th:only-of-type {\n",
       "        vertical-align: middle;\n",
       "    }\n",
       "\n",
       "    .dataframe tbody tr th {\n",
       "        vertical-align: top;\n",
       "    }\n",
       "\n",
       "    .dataframe thead th {\n",
       "        text-align: right;\n",
       "    }\n",
       "</style>\n",
       "<table border=\"1\" class=\"dataframe\">\n",
       "  <thead>\n",
       "    <tr style=\"text-align: right;\">\n",
       "      <th></th>\n",
       "      <th>INPUT</th>\n",
       "      <th>CATEGORY</th>\n",
       "      <th>AUTOCOMPLETE</th>\n",
       "    </tr>\n",
       "  </thead>\n",
       "  <tbody>\n",
       "    <tr>\n",
       "      <th>0</th>\n",
       "      <td>want to put in my new debit c</td>\n",
       "      <td>Other</td>\n",
       "      <td>want to put in my new debit c</td>\n",
       "    </tr>\n",
       "    <tr>\n",
       "      <th>1</th>\n",
       "      <td>want to</td>\n",
       "      <td>Other</td>\n",
       "      <td>want to</td>\n",
       "    </tr>\n",
       "    <tr>\n",
       "      <th>2</th>\n",
       "      <td>virtual wallet</td>\n",
       "      <td>roarmoney</td>\n",
       "      <td>virtual wallet</td>\n",
       "    </tr>\n",
       "    <tr>\n",
       "      <th>4</th>\n",
       "      <td>switch contact method to</td>\n",
       "      <td>Other</td>\n",
       "      <td>switch contact method to</td>\n",
       "    </tr>\n",
       "    <tr>\n",
       "      <th>6</th>\n",
       "      <td>stoc</td>\n",
       "      <td>Other</td>\n",
       "      <td>stoc</td>\n",
       "    </tr>\n",
       "  </tbody>\n",
       "</table>\n",
       "</div>"
      ],
      "text/plain": [
       "                           INPUT   CATEGORY                   AUTOCOMPLETE\n",
       "0  want to put in my new debit c      Other  want to put in my new debit c\n",
       "1                        want to      Other                        want to\n",
       "2                 virtual wallet  roarmoney                 virtual wallet\n",
       "4       switch contact method to      Other       switch contact method to\n",
       "6                           stoc      Other                           stoc"
      ]
     },
     "execution_count": 38,
     "metadata": {},
     "output_type": "execute_result"
    }
   ],
   "source": [
    "# run the autocomplete function on INPUT column\n",
    "data_df['AUTOCOMPLETE'] = data_df['INPUT'].apply(lambda x: autocomplete_sentence(x))\n",
    "data_df.head()"
   ]
  },
  {
   "cell_type": "code",
   "execution_count": 43,
   "metadata": {},
   "outputs": [],
   "source": [
    "#rename autocomplete to input\n",
    "#drop input column\n",
    "#rename autocomplete to input\n",
    "data_df = data_df.drop(columns=['INPUT'])\n",
    "data_df = data_df.rename(columns={'AUTOCOMPLETE': 'INPUT'})"
   ]
  },
  {
   "cell_type": "code",
   "execution_count": 44,
   "metadata": {},
   "outputs": [],
   "source": [
    "data_df.to_csv('../result_files/autocomplete.csv', index=False)"
   ]
  },
  {
   "cell_type": "markdown",
   "metadata": {},
   "source": [
    "### Convert documents to embeddings"
   ]
  },
  {
   "cell_type": "code",
   "execution_count": 125,
   "metadata": {},
   "outputs": [
    {
     "data": {
      "text/html": [
       "<div>\n",
       "<style scoped>\n",
       "    .dataframe tbody tr th:only-of-type {\n",
       "        vertical-align: middle;\n",
       "    }\n",
       "\n",
       "    .dataframe tbody tr th {\n",
       "        vertical-align: top;\n",
       "    }\n",
       "\n",
       "    .dataframe thead th {\n",
       "        text-align: right;\n",
       "    }\n",
       "</style>\n",
       "<table border=\"1\" class=\"dataframe\">\n",
       "  <thead>\n",
       "    <tr style=\"text-align: right;\">\n",
       "      <th></th>\n",
       "      <th>product_name</th>\n",
       "      <th>product_summary</th>\n",
       "    </tr>\n",
       "  </thead>\n",
       "  <tbody>\n",
       "    <tr>\n",
       "      <th>0</th>\n",
       "      <td>roarmoney.txt</td>\n",
       "      <td>RoarMoney is a mobile bank account designed to...</td>\n",
       "    </tr>\n",
       "    <tr>\n",
       "      <th>1</th>\n",
       "      <td>wow_membership.txt</td>\n",
       "      <td>MoneyLion WOW is a membership that offers user...</td>\n",
       "    </tr>\n",
       "    <tr>\n",
       "      <th>2</th>\n",
       "      <td>crypto.txt</td>\n",
       "      <td>The MoneyLion crypto product is designed to ma...</td>\n",
       "    </tr>\n",
       "    <tr>\n",
       "      <th>3</th>\n",
       "      <td>credit_builder_plus.txt</td>\n",
       "      <td>Credit Builder Plus (CB+) is a membership serv...</td>\n",
       "    </tr>\n",
       "    <tr>\n",
       "      <th>4</th>\n",
       "      <td>instacash.txt</td>\n",
       "      <td>Instacash is a service that provides customers...</td>\n",
       "    </tr>\n",
       "  </tbody>\n",
       "</table>\n",
       "</div>"
      ],
      "text/plain": [
       "              product_name                                    product_summary\n",
       "0            roarmoney.txt  RoarMoney is a mobile bank account designed to...\n",
       "1       wow_membership.txt  MoneyLion WOW is a membership that offers user...\n",
       "2               crypto.txt  The MoneyLion crypto product is designed to ma...\n",
       "3  credit_builder_plus.txt  Credit Builder Plus (CB+) is a membership serv...\n",
       "4            instacash.txt  Instacash is a service that provides customers..."
      ]
     },
     "execution_count": 125,
     "metadata": {},
     "output_type": "execute_result"
    }
   ],
   "source": [
    "# read csv \n",
    "product_summary_df = pd.read_csv('../result_files/product_summary.csv')\n",
    "product_summary_df.head()"
   ]
  },
  {
   "cell_type": "code",
   "execution_count": 126,
   "metadata": {},
   "outputs": [],
   "source": [
    "# in product_sumary column, convert to embeddings\n",
    "product_summary_df['text-embedding-ada-002'] = product_summary_df['product_summary'].apply(lambda x: get_embedding(x, engine = \"text-embedding-ada-002\"))"
   ]
  },
  {
   "cell_type": "code",
   "execution_count": 143,
   "metadata": {},
   "outputs": [],
   "source": [
    "product_summary_df.to_csv('../result_files/product_summary_embedded.csv', index=False)"
   ]
  },
  {
   "cell_type": "markdown",
   "metadata": {},
   "source": [
    "### Perform semantic search"
   ]
  },
  {
   "cell_type": "code",
   "execution_count": 141,
   "metadata": {},
   "outputs": [],
   "source": [
    "def semantic_search(query,df):\n",
    "    '''\n",
    "    Perform a search against a dataframe using cosine similarity\n",
    "    query: string\n",
    "    df: dataframe with documents and embeddings\n",
    "    '''\n",
    "\n",
    "    query_embedding = get_embedding(\n",
    "        query, engine=\"text-embedding-ada-002\"\n",
    "    )\n",
    "\n",
    "    # Calculate similarity of query against all documents\n",
    "    similarity_scores = product_summary_df['text-embedding-ada-002'].apply(lambda x: cosine_similarity([query_embedding], [x])).to_list()\n",
    "    top_document_index = np.argmax(similarity_scores)\n",
    "    top_document = df.iloc[top_document_index]['product_summary']\n",
    "    # print(f\"Top document: {top_document}\")\n",
    "    # print(f\"Similarity score: {similarity_scores[top_document_index]}\")\n",
    "    similarity_score = similarity_scores[top_document_index]\n",
    "    if similarity_score >= 0.8:\n",
    "        return top_document\n",
    "    else:\n",
    "        return 'finance'\n",
    "    \n",
    "    "
   ]
  },
  {
   "cell_type": "code",
   "execution_count": 142,
   "metadata": {},
   "outputs": [
    {
     "name": "stdout",
     "output_type": "stream",
     "text": [
      "completed search query:  pizza\n"
     ]
    },
    {
     "data": {
      "text/plain": [
       "'finance'"
      ]
     },
     "execution_count": 142,
     "metadata": {},
     "output_type": "execute_result"
    }
   ],
   "source": [
    "search_query = input(\"Enter your search query: \")\n",
    "search_query = autocomplete_sentence(search_query)\n",
    "print(\"completed search query: \", search_query)\n",
    "semantic_search(search_query, product_summary_df)"
   ]
  }
 ],
 "metadata": {
  "kernelspec": {
   "display_name": "gai_srch_summarization_p39",
   "language": "python",
   "name": "python3"
  },
  "language_info": {
   "codemirror_mode": {
    "name": "ipython",
    "version": 3
   },
   "file_extension": ".py",
   "mimetype": "text/x-python",
   "name": "python",
   "nbconvert_exporter": "python",
   "pygments_lexer": "ipython3",
   "version": "3.7.16"
  }
 },
 "nbformat": 4,
 "nbformat_minor": 2
}
