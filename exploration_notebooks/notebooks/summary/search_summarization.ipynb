{
 "cells": [
  {
   "cell_type": "markdown",
   "metadata": {},
   "source": [
    "### This notebook covers the expected workflow of the search summarization\n"
   ]
  },
  {
   "cell_type": "code",
   "execution_count": 1,
   "metadata": {},
   "outputs": [],
   "source": [
    "import pandas as pd\n",
    "import numpy as np\n",
    "from snowflake import connector as sf\n",
    "import os\n",
    "import requests\n",
    "import numpy as np\n",
    "import pandas as pd\n",
    "from pathlib import Path\n",
    "from collections import Counter\n",
    "from datetime import datetime, date, timedelta\n",
    "from dateutil import parser\n",
    "import os\n",
    "import re\n",
    "import time\n",
    "\n",
    "import openai\n",
    "from dotenv import find_dotenv, load_dotenv"
   ]
  },
  {
   "cell_type": "code",
   "execution_count": 2,
   "metadata": {},
   "outputs": [],
   "source": [
    "#CONSTANTS\n",
    "SEARCH_API_RESPONSE_FOLDER = '../result_output'"
   ]
  },
  {
   "cell_type": "code",
   "execution_count": 3,
   "metadata": {},
   "outputs": [],
   "source": [
    "#result extraction functions\n",
    "def get_prod_universal_search_result(\n",
    "    query,\n",
    "    limit=10,\n",
    "    offset=0,\n",
    "    category=\"TOP\",\n",
    "    sortBy=\"SCORE\",\n",
    "    returnFields=\"ALL\",\n",
    "    x_moneylion_user_id=\"60b64a474ccc2754df20e65f\",\n",
    "    enrich_response={},\n",
    "):\n",
    "    \"\"\"\n",
    "    Get Universal Search result from MoneyLion API\n",
    "\n",
    "    returnFields: ALL, OFFERS, VIDEOS\n",
    "    category: TOP, OFFERS, VIDEOS\n",
    "    sortBy: SCORE, RELEVANCE, NEWEST, OLDEST\n",
    "\n",
    "    returns json response and dataframe\n",
    "    \"\"\"\n",
    "    API_URL = \"https://universal-search-api.moneylion.com/search/universal-search\"\n",
    "\n",
    "    params = {\n",
    "        \"limit\": limit,\n",
    "        \"offset\": offset,\n",
    "        \"query\": query,\n",
    "        \"category\": category,\n",
    "        \"sortBy\": sortBy,\n",
    "        \"returnFields\": returnFields\n",
    "    }\n",
    "\n",
    "    headers = {\n",
    "        \"x-moneylion-user-id\": x_moneylion_user_id,\n",
    "        \"accept\": \"application/json\"\n",
    "    }\n",
    "\n",
    "    response = requests.get(API_URL, params=params, headers=headers).json()\n",
    "\n",
    "    # enrich response\n",
    "    enrich_param_keys = {\"query\", \"category\", \"sortBy\"}\n",
    "    enrich_response_params = {k: params[k] for k in params.keys() & enrich_param_keys}\n",
    "    enrich_response = enrich_response_params | enrich_response\n",
    "    enrich_response[\"query_category\"] = enrich_response.pop(\"category\", \"\")\n",
    "\n",
    "    response = response | enrich_response\n",
    "\n",
    "    _description = response.get(\"description\")\n",
    "    # print(f\"{_description} - {query}\")\n",
    "\n",
    "    return response\n",
    "\n",
    "def parse_json_response(response, add_result_columns=[]):\n",
    "    common_columns = [\n",
    "        \"productId\",\n",
    "        \"displayTitle\",\n",
    "        \"description\",\n",
    "        \"category\",\n",
    "        \"createdAt\",\n",
    "        \"keywords\",\n",
    "        \"queryTerms\",\n",
    "    ]\n",
    "\n",
    "    _query = response.get(\"query\")\n",
    "\n",
    "    # if there is no offers, return _df_offers with empty columns\n",
    "    if \"OFFERS\" in response.get(\"data\", {}):\n",
    "        _df_offers = (\n",
    "            pd.json_normalize(response.get(\"data\", {}).get(\"OFFERS\", []))\n",
    "            .loc[:, common_columns]\n",
    "            .assign(data=\"OFFERS\")\n",
    "            .reset_index()\n",
    "        )\n",
    "    else:\n",
    "        _df_offers = pd.DataFrame(columns=common_columns)\n",
    "\n",
    "    if \"VIDEOS\" in response.get(\"data\", {}):\n",
    "        _df_videos = (\n",
    "            pd.json_normalize(response.get(\"data\", {}).get(\"VIDEOS\", []))\n",
    "            .loc[:, common_columns]\n",
    "            .assign(data=\"VIDEOS\")\n",
    "            .reset_index()\n",
    "        )\n",
    "    else:\n",
    "        _df_videos = pd.DataFrame(columns=common_columns)\n",
    "        \n",
    "    _set_enrich_column = {\n",
    "        \"limit\",\n",
    "        \"offset\",\n",
    "        \"query\",\n",
    "        \"query_category\",\n",
    "        \"sortBy\",\n",
    "    }\n",
    "    _set_enrich_column.update(add_result_columns)\n",
    "    _dct_enrich = {k: response.get(k) for k in response.keys() & _set_enrich_column}\n",
    "\n",
    "    _df_query = pd.DataFrame.from_records(_dct_enrich, index=[0])\n",
    "\n",
    "    _df_result = (\n",
    "        pd.concat([_df_offers, _df_videos], ignore_index=True)\n",
    "        .rename({\"index\": \"position\"}, axis=1)\n",
    "        .merge(_df_query, how=\"cross\")\n",
    "    )\n",
    "\n",
    "    # print(f\"Parse {_query}\")\n",
    "    _df_result.head()\n",
    "    return _df_result\n",
    "\n",
    "\n",
    "\n",
    "def get_universal_search_result(\n",
    "    query, \n",
    "    fetch_result_limit=10, \n",
    "    output_folder_path=SEARCH_API_RESPONSE_FOLDER\n",
    "):\n",
    "    \"\"\"Generate DataFrame with Universal Search result for each query\n",
    "    Takes in query in a list\n",
    "\n",
    "    Parameters\n",
    "    ----------\n",
    "    query_list : str\n",
    "        List of query strings, to pass to Universal Search\n",
    "\n",
    "    fetch_result_limit : int, optional\n",
    "        Number of result from each category (offers, videos) to be fetched\n",
    "        default value = 10\n",
    "        maximum value = 100\n",
    "\n",
    "    Returns\n",
    "    -------\n",
    "    df_result : pd.DataFrame\n",
    "        DataFrame parsed from Universal Search response\n",
    "        Contains query, search results and result details\n",
    "    \"\"\"\n",
    "    df_result = pd.DataFrame()\n",
    "\n",
    "    if len(str(query)) <= 50:\n",
    "        file_name = query.lower().replace(\" \", \"_\")\n",
    "        file_path = os.path.join(output_folder_path, f\"{file_name}.json\")\n",
    "\n",
    "        response = get_prod_universal_search_result(query, limit=fetch_result_limit)\n",
    "\n",
    "        if response.get(\"status\") == \"PASSED\":\n",
    "            _df_result_temp = parse_json_response(response)\n",
    "            # check _df_result_temp is not empty\n",
    "            if not _df_result_temp.empty:\n",
    "                df_result = pd.concat(\n",
    "                    [df_result, _df_result_temp], axis=0, ignore_index=True\n",
    "                )\n",
    "            else :\n",
    "                print(f\"Empty result - {query}\")\n",
    "\n",
    "    else:\n",
    "        print(f\"Skip - {query}\")\n",
    "\n",
    "    return df_result\n"
   ]
  },
  {
   "cell_type": "code",
   "execution_count": 5,
   "metadata": {},
   "outputs": [],
   "source": [
    "#snowflake connector\n",
    "\n",
    "def get_sf_connection(email, username):\n",
    "    \"\"\"\n",
    "    Connect to Snowflake using Snowflake Connector\n",
    "    \"\"\"\n",
    "    connection = sf.connect(\n",
    "        user= f'{email}',\n",
    "        account='moneylion.us-east-1',\n",
    "        authenticator='externalbrowser',\n",
    "        database='ANALYTICS_DB',\n",
    "        warehouse='PROD_ANALYST_READ_WH',\n",
    "        role=f'PROD_A_USR_{username.upper()}_WRITER' \n",
    "    ) \n",
    "    \n",
    "    connection.autocommit = True\n",
    "    \n",
    "    return connection\n"
   ]
  },
  {
   "cell_type": "code",
   "execution_count": 6,
   "metadata": {},
   "outputs": [
    {
     "name": "stdout",
     "output_type": "stream",
     "text": [
      "Initiating login request with your identity provider. A browser window should have opened for you to complete the login. If you can't see it, check existing browser windows, or your OS settings. Press CTRL+C to abort and try again...\n",
      "Going to open: https://sso.jumpcloud.com/saml2/snowflakeai?SAMLRequest=lZLdctowEIVfxaNe25IhZUCDyRBoJk75KzhpmjvFFkRBllythMnbV5i4k14kM73TSOfsfquzw8tjKYMDNyC0SlAcERRwletCqF2C7rLrsI8CsEwVTGrFE%2FTKAV2OhsBKWdGxs89qzX87DjbwhRTQ5iFBziiqGQigipUcqM3pZjyf0U5EaGW01bmW6J3lcwcD4MZ6wtZSgPB4z9ZWFOO6rqO6G2mzwx1CCCYD7FUnyZdWf%2FQzfaCPMbk46b3Cy1dvbFdCnb%2FgM6ynswjoTZatwtVyk6Fg3KJOtAJXcrPh5iByfreenQHAE8yXi2%2B%2FZulyETkIOQMbxhEoXW8l2%2FNcl5Wzvm7kT3jLCyz1TvjR02mCqr0obvJ5Pdk%2FHK5M32YXx4f779OyJ3s%2F5M%2Fykd3CfnO7ntinl8F00c9RcN9m2zllmwI4nqpTotZfkU43jEkYDzISU9KnX0nU7fceUTD1iQrFbONssQF09OLKKpfaFQ3dKboO%2FovOBDqvBm36mNH%2FDzzE7%2F1ve7bwX59OV1qK%2FDW41qZk9uNk4ihubkQRbhsp5SUTclwUhgP4hKTU9cRwZv06W%2BM4wqNz138XevQH&RelayState=50933 to authenticate...\n"
     ]
    }
   ],
   "source": [
    "connection_sf = get_sf_connection(\"xlim@moneylion.com\", \"XLIM\")"
   ]
  },
  {
   "cell_type": "code",
   "execution_count": null,
   "metadata": {},
   "outputs": [],
   "source": [
    "# video extraction functions\n",
    "def extract_video_metadata_query(video_id):\n",
    "    \"\"\"\n",
    "    Extract video metadata from Snowflake\n",
    "    \"\"\"\n",
    "    VIDEO_METADATA_QUERY = \"\"\"\n",
    "        select distinct\n",
    "            _id,\n",
    "            key,\n",
    "            video_spec__asset_id,\n",
    "            generated_title,\n",
    "            transcript,\n",
    "            unique_detected_texts,\n",
    "            ranked_keywords\n",
    "        from\n",
    "            analytics_db.todaytab.todaytabcontentspec\n",
    "        left join analytics_db.todayfeed.video_content_metadata on(\n",
    "            video_spec__asset_id = asset_id\n",
    "        )\n",
    "        where _id = '{video_id}'\n",
    "    \"\"\"\n",
    "    return VIDEO_METADATA_QUERY.format(video_id=video_id)\n",
    "\n",
    "def extract_video_metadata (df_result):\n",
    "    \"\"\"\n",
    "    Extract video metadata from Snowflake and merge with df_result\n",
    "    \"\"\"\n",
    "\n",
    "    df_result = df_result.drop_duplicates(subset=['position','productId', 'query', 'data'])\n",
    "    videos_df = df_result[df_result['category'] == 'VIDEOS']\n",
    "    videos_df['productId'] = videos_df['productId'].str.split(' ').str[0]\n",
    "    videos_df = videos_df.drop_duplicates(subset=['productId'])\n",
    "    video_metadata_df = pd.DataFrame()\n",
    "    for video_id in videos_df['productId']:\n",
    "        video_query = extract_video_metadata_query(video_id)\n",
    "        video_metadata_df_1 = pd.read_sql_query(video_query, connection_sf)\n",
    "        video_metadata_df = pd.concat([video_metadata_df, video_metadata_df_1])\n",
    "    df_result_enriched = pd.merge(df_result, video_metadata_df, left_on='productId', right_on='_ID', how='left')\n",
    "    return df_result_enriched"
   ]
  },
  {
   "cell_type": "code",
   "execution_count": 181,
   "metadata": {},
   "outputs": [],
   "source": [
    "# GENAI_SUMMARY_PROMPT_OVERALL = \"\"\"\n",
    "# Context:\n",
    "# - MoneyLion is a financial technology company that offers a range of financial products and services aimed at helping individuals manage their personal finances more effectively\n",
    "# - MoneyLion operates as consumer mobile app that provides digital financial services and lifestyle financial contents\n",
    "# - MoneyLion is the “Go-To Money Destination” for American consumers, staying relevant to consumer's financial life at all stages \n",
    "# - MoneyLion's mission is to improve financial inclusivity for underserved Americans\n",
    "# - MoneyLion's main product are: Instacash, RoarMoney, Credit Builder Loan, Investment Account, Reward, Financial Content, Crypto, Credit Monitoring, Peer to Peer Payments, Round Ups, AI Powered PFM Insights\n",
    "# - Instacash is a short-term cash advance product, designed to cover immediate financial needs, and repaid automatically on next payday\n",
    "# - RoarMoney is mobile banking and cash management account\n",
    "# - Credit Builder Loans is designed to help users to build and improve their credit scores over time\n",
    "# - Majority of consumers join MoneyLion to get either Instacash, RoarMoney or Credit Builder Loans, with a large majority signing up for Instacash\n",
    "# - As a financial platform, MoneyLion offers 3rd party financial products, ie: various types of financial product, insurance and loans in the market\n",
    "# - 3rd party financial product includes: Auto Insurance, Life Insurance, Home Insurance, Travel Insurance, High Yield Savings Account, Student Loans, Personal Loans, Auto Loans, Home Loan, Student Loan Refinance, Credit Card offers, Certificate of Deposit, Bill Payments, etc.\n",
    "# - MoneyLion users have the following profile: underserved individuals, those in need of short-term funds, credit builders, digitally-oriented users, budget-conscious individuals, financially educated consumers, investment explorers, rewards seekers, those actively comparing financial products.\n",
    "# In the MoneyLion Search Engine, we categorized our results into 2 categories:\n",
    "# 1. OFFERS - MoneyLion offers that are relevant to your search query\n",
    "# 2. VIDEOS - Financial Videos that are relevant to your search query\n",
    "# The following is the search query and a list of results that surfaces from the search query on the MoneyLion domain. \n",
    "# SEARCH QUERY: {search_query}\n",
    "# RESULTS:\n",
    "#     LIST OF TOP 5 OFFERS:\n",
    "#     {offer_list}\n",
    "#     LIST OF TOP 5 VIDEOS AND THEIR TRANSCRIPTS:\n",
    "#     {video_list}\n",
    "# INSTRUCTIONS:\n",
    "# Provide a one-liner to summarize the keypoints of the results based on the intention of the search query.\n",
    "# The description should be within 50 words, and should be in a form of a sentence.\n",
    "# \"\"\""
   ]
  },
  {
   "cell_type": "code",
   "execution_count": 192,
   "metadata": {},
   "outputs": [],
   "source": [
    "# GENAI_SUMMARY_PROMPT_VIDEOS = \"\"\"\n",
    "# In the MoneyLion Search Engine, we categorized our results into 2 categories:\n",
    "# 1. OFFERS - MoneyLion offers that are relevant to your search query\n",
    "# 2. VIDEOS - Financial Videos that are relevant to your search query\n",
    "# The following is the search query and a list of results that surfaces from the search query on the MoneyLion domain. \n",
    "# SEARCH QUERY: {search_query}\n",
    "# RESULTS:\n",
    "#     LIST OF TOP 5 VIDEOS AND THEIR TRANSCRIPTS:\n",
    "#     {video_list}\n",
    "# INSTRUCTIONS:\n",
    "# Provide a one-liner that summarizes the context of the videos based on their transcripts.\n",
    "# The description should be within 50 words, and should be in a form of a sentence.\n",
    "# \"\"\""
   ]
  },
  {
   "cell_type": "code",
   "execution_count": 198,
   "metadata": {},
   "outputs": [],
   "source": [
    "# GENAI_SUMMARY_PROMPT_ACTION = \"\"\"\n",
    "# Context:\n",
    "# - MoneyLion is a financial technology company that offers a range of financial products and services aimed at helping individuals manage their personal finances more effectively\n",
    "# - MoneyLion operates as consumer mobile app that provides digital financial services and lifestyle financial contents\n",
    "# - MoneyLion is the “Go-To Money Destination” for American consumers, staying relevant to consumer's financial life at all stages \n",
    "# - MoneyLion's mission is to improve financial inclusivity for underserved Americans\n",
    "# - MoneyLion's main product are: Instacash, RoarMoney, Credit Builder Loan, Investment Account, Reward, Financial Content, Crypto, Credit Monitoring, Peer to Peer Payments, Round Ups, AI Powered PFM Insights\n",
    "# - Instacash is a short-term cash advance product, designed to cover immediate financial needs, and repaid automatically on next payday\n",
    "# - RoarMoney is mobile banking and cash management account\n",
    "# - Credit Builder Loans is designed to help users to build and improve their credit scores over time\n",
    "# - Majority of consumers join MoneyLion to get either Instacash, RoarMoney or Credit Builder Loans, with a large majority signing up for Instacash\n",
    "# - As a financial platform, MoneyLion offers 3rd party financial products, ie: various types of financial product, insurance and loans in the market\n",
    "# - 3rd party financial product includes: Auto Insurance, Life Insurance, Home Insurance, Travel Insurance, High Yield Savings Account, Student Loans, Personal Loans, Auto Loans, Home Loan, Student Loan Refinance, Credit Card offers, Certificate of Deposit, Bill Payments, etc.\n",
    "# - MoneyLion users have the following profile: underserved individuals, those in need of short-term funds, credit builders, digitally-oriented users, budget-conscious individuals, financially educated consumers, investment explorers, rewards seekers, those actively comparing financial products.\n",
    "# In the MoneyLion Search Engine, we categorized our results into 2 categories:\n",
    "# 1. OFFERS - MoneyLion offers that are relevant to your search query\n",
    "# 2. VIDEOS - Financial Videos that are relevant to your search query\n",
    "# The following is a list of results that surfaces from the search query on the MoneyLion domain. \n",
    "# SEARCH QUERY: {search_query}\n",
    "# RESULTS:\n",
    "#     LIST OF TOP 5 OFFERS:\n",
    "#     {offer_list}\n",
    "#     LIST OF TOP 5 VIDEOS AND THEIR TRANSCRIPTS:\n",
    "#     {video_list}\n",
    "# INSTRUCTIONS:\n",
    "# Provide a one-liner that describes the benefits, features or actions based on the search results.\n",
    "# The description should be within 50 words, and should be in a form of a sentence.\n",
    "# \"\"\""
   ]
  },
  {
   "cell_type": "code",
   "execution_count": 236,
   "metadata": {},
   "outputs": [],
   "source": [
    "GENAI_SUMMARY_PROMPT_VIDEO = \"\"\"\n",
    "Context:\n",
    "- MoneyLion is a financial technology company that offers a range of financial products and services aimed at helping individuals manage their personal finances more effectively\n",
    "- MoneyLion operates as consumer mobile app that provides digital financial services and lifestyle financial contents\n",
    "- MoneyLion is the “Go-To Money Destination” for American consumers, staying relevant to consumer's financial life at all stages \n",
    "- MoneyLion's mission is to improve financial inclusivity for underserved Americans\n",
    "- MoneyLion's main product are: Instacash, RoarMoney, Credit Builder Loan, Investment Account, Reward, Financial Content, Crypto, Credit Monitoring, Peer to Peer Payments, Round Ups, AI Powered PFM Insights\n",
    "- Instacash is a short-term cash advance product, designed to cover immediate financial needs, and repaid automatically on next payday\n",
    "- RoarMoney is mobile banking and cash management account\n",
    "- Credit Builder Loans is designed to help users to build and improve their credit scores over time\n",
    "- Majority of consumers join MoneyLion to get either Instacash, RoarMoney or Credit Builder Loans, with a large majority signing up for Instacash\n",
    "- As a financial platform, MoneyLion offers 3rd party financial products, ie: various types of financial product, insurance and loans in the market\n",
    "- 3rd party financial product includes: Auto Insurance, Life Insurance, Home Insurance, Travel Insurance, High Yield Savings Account, Student Loans, Personal Loans, Auto Loans, Home Loan, Student Loan Refinance, Credit Card offers, Certificate of Deposit, Bill Payments, etc.\n",
    "- MoneyLion users have the following profile: underserved individuals, those in need of short-term funds, credit builders, digitally-oriented users, budget-conscious individuals, financially educated consumers, investment explorers, rewards seekers, those actively comparing financial products.\n",
    "In the MoneyLion Search Engine, we categorized our results into 2 categories:\n",
    "1. OFFERS - MoneyLion offers that are relevant to your search query\n",
    "2. VIDEOS - Financial Videos that are relevant to your search query\n",
    "The following is a list of results that surfaces from the search query on the MoneyLion domain. \n",
    "SEARCH QUERY: {search_query}\n",
    "RESULTS:\n",
    "    LIST OF TOP 5 VIDEOS AND THEIR TRANSCRIPTS:\n",
    "    {video_list}\n",
    "INSTRUCTIONS:\n",
    "Choose one video and provide a one-liner that describes the key takeaway from the video in a casual and funny tone.\n",
    "The description should be within 50 words, and should be in a form of a sentence.\n",
    "\n",
    "SAMPLE:\n",
    "Did you know you should use your credit card every month? Start building your credit with a credit card today!\n",
    "Source video : How to Build Credit with a Credit Card\n",
    "\"\"\""
   ]
  },
  {
   "cell_type": "code",
   "execution_count": 197,
   "metadata": {},
   "outputs": [],
   "source": [
    "EVALUATION_PROMPT = \"\"\"\n",
    "Context:\n",
    "- MoneyLion is a financial technology company that offers a range of financial products and services aimed at helping individuals manage their personal finances more effectively\n",
    "- MoneyLion operates as consumer mobile app that provides digital financial services and lifestyle financial contents\n",
    "- MoneyLion is the “Go-To Money Destination” for American consumers, staying relevant to consumer's financial life at all stages \n",
    "- MoneyLion's mission is to improve financial inclusivity for underserved Americans\n",
    "- MoneyLion's main product are: Instacash, RoarMoney, Credit Builder Loan, Investment Account, Reward, Financial Content, Crypto, Credit Monitoring, Peer to Peer Payments, Round Ups, AI Powered PFM Insights\n",
    "- Instacash is a short-term cash advance product, designed to cover immediate financial needs, and repaid automatically on next payday\n",
    "- RoarMoney is mobile banking and cash management account\n",
    "- Credit Builder Loans is designed to help users to build and improve their credit scores over time\n",
    "- Majority of consumers join MoneyLion to get either Instacash, RoarMoney or Credit Builder Loans, with a large majority signing up for Instacash\n",
    "- As a financial platform, MoneyLion offers 3rd party financial products, ie: various types of financial product, insurance and loans in the market\n",
    "- 3rd party financial product includes: Auto Insurance, Life Insurance, Home Insurance, Travel Insurance, High Yield Savings Account, Student Loans, Personal Loans, Auto Loans, Home Loan, Student Loan Refinance, Credit Card offers, Certificate of Deposit, Bill Payments, etc.\n",
    "- MoneyLion users have the following profile: underserved individuals, those in need of short-term funds, credit builders, digitally-oriented users, budget-conscious individuals, financially educated consumers, investment explorers, rewards seekers, those actively comparing financial products.\n",
    "\n",
    "Instuctions:\n",
    "- Read the following summary and find the most relevant video from the list of videos\n",
    "- Evaluate summary based on the transcript of the video using the following criterias\n",
    "\n",
    "Output criteria:\n",
    "    - return final answer using 3 variables \"result_rating\", \"result_relevance\" and \"rating_reason\"\n",
    "    - compute \"result_rating\" as: Rate relevance of summary on the scale of 0 to 10, with 0 being not relevant, and 10 being very relevant\n",
    "    - compute \"result_relevance\" as: If summary is relevant, return 1. Else return 0\n",
    "    - compute \"rating_reason\" as: Short summary of reason for \"result_rating\" provided in a few words\n",
    "    - output final answer in the following format: result_rating=(input value of result_rating here); result_relevance=(input value of result_relevance here); rating_reason=(input value of rating_reason here)\n",
    "\n",
    "Summary : \n",
    "{summary}\n",
    "List of Videos and their Transcripts: \n",
    "{video_list}\n",
    "let's think step by step\n",
    "\"\"\""
   ]
  },
  {
   "cell_type": "code",
   "execution_count": 221,
   "metadata": {},
   "outputs": [],
   "source": [
    "def get_gpt_response(prompt, temperature=1.0, model = \"gpt-3.5-turbo\"):\n",
    "    CHAT_COMPLETION_MODEL = model\n",
    "\n",
    "    CHAT_COMPLETION_API_PARAMS = {\n",
    "        # use temperature of 0.0 to give the most predictable, factual answer.\n",
    "        # tweak temperature based on your use case\n",
    "        \"temperature\": temperature,\n",
    "        \"model\": CHAT_COMPLETION_MODEL,\n",
    "    }\n",
    "\n",
    "    messages = [\n",
    "        {\"role\": \"user\", \"content\": prompt},\n",
    "    ]\n",
    "\n",
    "    response = openai.ChatCompletion.create(\n",
    "        messages=messages, **CHAT_COMPLETION_API_PARAMS\n",
    "    )\n",
    "\n",
    "    response_content = response[\"choices\"][0][\"message\"][\"content\"]\n",
    "\n",
    "    return response, response_content\n",
    "\n",
    "def extract_top_results (df_result_enriched, top_n=5):\n",
    "    \"\"\"\n",
    "    Extract top n results from df_result_enriched\n",
    "    \"\"\"\n",
    "\n",
    "def combine_elements(data):\n",
    "    # if data is a float, return empty string\n",
    "    if isinstance(data, float):\n",
    "        return ''\n",
    "    combined_list = []\n",
    "    for sublist in data:\n",
    "        combined = f\"'{sublist[0]}' - '{sublist[1]}'\"\n",
    "        combined_list.append(combined)\n",
    "    return '\\n'.join(combined_list)\n",
    "  \n",
    "def get_gpt_summary(df_result_enriched):\n",
    "    \"\"\"\n",
    "    Generate summary using GPT-3.5 turbo\n",
    "    \"\"\"\n",
    "    df_result_enriched.columns = map(str.lower, df_result_enriched.columns)\n",
    "    # extract for data = OFFERS\n",
    "    df_offers = df_result_enriched[df_result_enriched['data'] == 'OFFERS']\n",
    "    df_offers = df_offers[['query', 'data', 'position', 'displaytitle', 'description']]\n",
    "    df_offers = df_offers.groupby('query').head(5)\n",
    "    df_offers['offer_list'] = df_offers[['displaytitle', 'description']].values.tolist()\n",
    "    df_offers.drop(['position', 'displaytitle', 'description'], axis=1, inplace=True)\n",
    "    df_offers = df_offers.groupby('query')['offer_list'].apply(list).reset_index(name='offer_list')\n",
    "    \n",
    "    # extract for data = VIDEOS\n",
    "    df_videos = df_result_enriched[df_result_enriched['data'] == 'VIDEOS']\n",
    "    df_videos = df_videos[['query', 'data', 'position', 'displaytitle', 'transcript', 'unique_detected_texts']]\n",
    "    df_videos = df_videos.groupby('query').head(5)\n",
    "    df_videos['transcript'] = df_videos['transcript'].fillna(df_videos['unique_detected_texts'])\n",
    "    df_videos['video_list'] = df_videos[['displaytitle', 'transcript']].values.tolist()\n",
    "    df_videos.drop(['position', 'displaytitle', 'transcript', 'unique_detected_texts'], axis=1, inplace=True)\n",
    "    df_videos = df_videos.groupby('query')['video_list'].apply(list).reset_index(name='video_list')\n",
    "\n",
    "    df = pd.merge(df_offers, df_videos, on='query', how='outer')\n",
    "\n",
    "    # combine into offer list and video list\n",
    "    df['combined_offers'] = df['offer_list'].apply(combine_elements)\n",
    "    df['combined_videos'] = df['video_list'].apply(combine_elements)\n",
    "    df.drop(['offer_list', 'video_list'], axis=1, inplace=True)\n",
    "    prompt = GENAI_SUMMARY_PROMPT_VIDEO.format(search_query = df['query'][0], offer_list=df['combined_offers'][0], video_list=df['combined_videos'][0])\n",
    "    response, summary = get_gpt_response(prompt)\n",
    "    df['summary'] = summary\n",
    "    df['summary_length'] = df['summary'].str.len()\n",
    "\n",
    "    return df['summary'][0], df['summary_length'][0], df['combined_offers'][0], df['combined_videos'][0]\n",
    "\n",
    "def is_subset(word1, word_list):\n",
    "    if isinstance(word1, str):\n",
    "        for word in word_list:\n",
    "            if set(word1.lower()).issubset(set(word.lower())):\n",
    "                return True\n"
   ]
  },
  {
   "cell_type": "code",
   "execution_count": null,
   "metadata": {},
   "outputs": [],
   "source": [
    "#get list of query from csv\n",
    "df_query = pd.read_csv('../../top_300_inputs.csv')\n",
    "TOP_300_QUERY_LIST = df_query['INPUT'].tolist()\n",
    "data = {'Query': [],'Offer List':[], 'Video List':[] , 'Summary': [], 'Summary_length': [], 'Rating': [], 'Relevance': [], 'Reason': []}\n",
    "df = pd.DataFrame(data)"
   ]
  },
  {
   "cell_type": "code",
   "execution_count": null,
   "metadata": {},
   "outputs": [],
   "source": [
    "for query in TOP_300_QUERY_LIST:\n",
    "    # if the query exists in the df, skip\n",
    "    if query in df['Query'].tolist() or not isinstance(query, str):\n",
    "        continue\n",
    "    # get universal search result\n",
    "    df_result = get_universal_search_result(query)\n",
    "    if not df_result.empty:\n",
    "        print(\"summarizing for \" + query)\n",
    "        # extract video metadata based on productId in videos\n",
    "        df_result_enriched = extract_video_metadata(df_result)\n",
    "        while True:\n",
    "            summary, summary_length, offer_list, video_list = get_gpt_summary(df_result_enriched)\n",
    "            if summary_length < 200:\n",
    "                break\n",
    "            else:\n",
    "                print(\"retrying for \" + query)\n",
    "        #evaluation\n",
    "        evaluation_prompt = EVALUATION_PROMPT.format(summary=summary, offer_list=offer_list, video_list=video_list)\n",
    "        m1, m2, m3 = (\"\", \"\", \"\")\n",
    "        while True:\n",
    "            try:\n",
    "                _response, evaluation_response_content = get_gpt_response(evaluation_prompt,temperature=0 , model = \"gpt-4\")\n",
    "\n",
    "                m1 = re.search(r\"result_rating=([0-9]+)\", evaluation_response_content).groups()[0]\n",
    "                m2 = re.search(r\"result_relevance=([0-1])\", evaluation_response_content).groups()[\n",
    "                    0\n",
    "                ]\n",
    "                m3 = re.search(r\"rating_reason=(.*)\\b\", evaluation_response_content).groups()[0]\n",
    "                if m1 and m2 and m3:\n",
    "                    print(m1, m2, m3)\n",
    "                    break\n",
    "            except:\n",
    "                print(f\"Retry evaluation for {query}\")\n",
    "                pass\n",
    "        new_data = pd.DataFrame({'Query': [query], 'Offer List': [offer_list], 'Video List': [video_list], 'Summary': [summary], 'Summary_length': [summary_length], 'Rating': [m1], 'Relevance': [m2], 'Reason': [m3]})\n",
    "        df = pd.concat([df, new_data], ignore_index=True)\n",
    "        print(\"SUMMARY : \\n\"+ summary)\n",
    "\n",
    "    else:\n",
    "        print(\"No result found, fail silently\")\n"
   ]
  },
  {
   "cell_type": "code",
   "execution_count": null,
   "metadata": {},
   "outputs": [],
   "source": [
    "df.to_csv('../../top_300_summary.csv', index=False)"
   ]
  },
  {
   "cell_type": "code",
   "execution_count": 204,
   "metadata": {},
   "outputs": [],
   "source": [
    "SEARCH_SUGGESTIONS_LIST = [\n",
    "    \"Afford a Tesla\",\n",
    "    \"Investing\",\n",
    "    \"Tips for saving money on monthly bills\",\n",
    "    \"How does Instacash work?\",\n",
    "    \"Latest trends in the crypto market\",\n",
    "    \"Maximizing the benefits of Rewards\",\n",
    "    \"Tips for improving credit score\",\n",
    "    \"How to earn rewards on purchases?\",\n",
    "    \"Ways to save money and budget effectively\",\n",
    "    \"Saving\",\n",
    "    \"Maximize your savings with RoarMoney\",\n",
    "    \"Investment opportunities\",\n",
    "    \"Warren Buffett\",\n",
    "    \"Ways to build credit with Credit Builder Plus\",\n",
    "    \"Free Starbucks\",\n",
    "    \"How to invest in cryptocurrency?\",\n",
    "    \"Pay less taxes\",\n",
    "    \"Improve credit score\",\n",
    "    \"Understanding the benefits of life insurance\",\n",
    "    \"Importance of credit monitoring\",\n",
    "    \"Tips for managing credit card debt\",\n",
    "    \"What are the benefits of rewards?\",\n",
    "    \"How to monitor my credit score?\",\n",
    "    \"Debt\",\n",
    "    \"How to create a budget that fits my lifestyle?\",\n",
    "    \"Inflation\",\n",
    "    \"Sneaker heads\"\n",
    "]\n",
    "\n",
    "ML_MAIN_PRODUCT = [\n",
    "    \"Instacash\",\n",
    "    \"RoarMoney\",\n",
    "    \"Credit Builder Loan\",\n",
    "    \"Investment Account\",\n",
    "    \"Reward\",\n",
    "    \"Financial Content\",\n",
    "    \"Crypto\",\n",
    "    \"Credit Monitoring\",\n",
    "    \"Peer to Peer Payments\",\n",
    "    \"Round Ups\",\n",
    "    \"AI Powered PFM Insights\",\n",
    "]\n",
    "\n",
    "ML_3P_PRODUCT = [\n",
    "    \"Auto Insurance\",\n",
    "    \"Life Insurance\",\n",
    "    \"Home Insurance\",\n",
    "    \"Travel Insurance\",\n",
    "    \"High Yield Savings Account\",\n",
    "    \"Student Loans\",\n",
    "    \"Personal Loans\",\n",
    "    \"Auto Loans\",\n",
    "    \"Home Loan\",\n",
    "    \"Student Loan Refinance\",\n",
    "    \"Credit Card offers\",\n",
    "    \"Certificate of Deposit\",\n",
    "    \"Bill Payments\",\n",
    "]\n",
    "\n",
    "RANDOM_SEARCH_TERM = [\n",
    "    \"Weather\",\n",
    "    \"News\",\n",
    "    \"Recipes\",\n",
    "    \"Sports\",\n",
    "    \"Travel\",\n",
    "    \"Movies\",\n",
    "    \"Music\",\n",
    "    \"Dictionary\",\n",
    "    \"Restaurants\",\n",
    "    \"Stocks\",\n",
    "    \"Health\",\n",
    "    \"Fashion\",\n",
    "    \"Technology\",\n",
    "    \"History\",\n",
    "    \"Fitness\",\n",
    "    \"Games\",\n",
    "    \"Maps\",\n",
    "    \"Finance\",\n",
    "    \"Art\",\n",
    "    \"Education\",\n",
    "    \"Jobs\",\n",
    "    \"Shopping\",\n",
    "    \"Events\",\n",
    "    \"Books\",\n",
    "    \"Cars\",\n",
    "    \"Real Estate\",\n",
    "    \"Science\",\n",
    "    \"Politics\",\n",
    "    \"Holidays\",\n",
    "    \"Social Media\",\n",
    "    \"Recipes\",\n",
    "    \"DIY\",\n",
    "    \"Reviews\",\n",
    "    \"Home\",\n",
    "    \"Beauty\",\n",
    "    \"Pets\",\n",
    "    \"Gardening\",\n",
    "    \"Fitness\",\n",
    "    \"Hobbies\",\n",
    "    \"Travel\",\n",
    "    \"Food\",\n",
    "    \"Weather\",\n",
    "    \"Movies\",\n",
    "    \"Music\",\n",
    "    \"Sports\",\n",
    "    \"Technology\",\n",
    "    \"Health\",\n",
    "    \"News\",\n",
    "    \"Science\",\n",
    "    \"Business\"\n",
    "]"
   ]
  },
  {
   "cell_type": "markdown",
   "metadata": {},
   "source": [
    "### Scope testing\n",
    "\n",
    "Extract 30 random queries from different categories , which includes:\n",
    "- First Party Products\n",
    "- Third Party Products\n",
    "- Suggestion List\n",
    "- Random Search Terms\n",
    "\n",
    "Run list of 10 random queries on the summarization model for the following iterations:\n",
    "- Summarizing the overall context of the results ( title and description/transcript)\n",
    "- Summarizing the videos, and instruct it to point out the key points of the video\n",
    "- Provide benefits/perks related to the search query based on the context of the results\n",
    "\n",
    "\n",
    "Note that execution time is only calculated on the summarization generation and not the evaluation, the execution time is ended when the loop breaks"
   ]
  },
  {
   "cell_type": "code",
   "execution_count": 213,
   "metadata": {},
   "outputs": [
    {
     "name": "stdout",
     "output_type": "stream",
     "text": [
      "['Saving', 'Tips for improving credit score', 'How to invest in cryptocurrency?', 'Maximize your savings with RoarMoney', 'AI Powered PFM Insights', 'Financial Content', 'Life Insurance', 'Travel Insurance', 'Holidays', 'Beauty']\n"
     ]
    }
   ],
   "source": [
    "#create a new list with random 10 search terms from SEARCH_SUGGESTIONS_LIST , ML_MAIN_PRODUCT, ML_3P_PRODUCT, RANDOM_SEARCH_TERM, randomize every time the code is run\n",
    "import random\n",
    "random.shuffle(SEARCH_SUGGESTIONS_LIST)\n",
    "random.shuffle(ML_MAIN_PRODUCT)\n",
    "random.shuffle(ML_3P_PRODUCT)\n",
    "random.shuffle(RANDOM_SEARCH_TERM)\n",
    "random_search_term_list = SEARCH_SUGGESTIONS_LIST[:4] + ML_MAIN_PRODUCT[:2] + ML_3P_PRODUCT[:2] + RANDOM_SEARCH_TERM[:2]\n",
    "print(random_search_term_list)"
   ]
  },
  {
   "cell_type": "code",
   "execution_count": 214,
   "metadata": {},
   "outputs": [
    {
     "name": "stdout",
     "output_type": "stream",
     "text": [
      "search_suggestion_count:  4\n",
      "ml_main_product_count:  2\n",
      "ml_3p_product_count:  2\n",
      "random_search_term_count:  2\n"
     ]
    }
   ],
   "source": [
    "# from the list , count how many search terms are from SEARCH_SUGGESTIONS_LIST , ML_MAIN_PRODUCT, ML_3P_PRODUCT, RANDOM_SEARCH_TERM\n",
    "search_suggestion_count = 0\n",
    "ml_main_product_count = 0\n",
    "ml_3p_product_count = 0\n",
    "random_search_term_count = 0\n",
    "\n",
    "for search_term in random_search_term_list:\n",
    "    if search_term in SEARCH_SUGGESTIONS_LIST:\n",
    "        search_suggestion_count += 1\n",
    "    elif search_term in ML_MAIN_PRODUCT:\n",
    "        ml_main_product_count += 1\n",
    "    elif search_term in ML_3P_PRODUCT:\n",
    "        ml_3p_product_count += 1\n",
    "    elif search_term in RANDOM_SEARCH_TERM:\n",
    "        random_search_term_count += 1\n",
    "\n",
    "print(\"search_suggestion_count: \", search_suggestion_count)\n",
    "print(\"ml_main_product_count: \", ml_main_product_count)\n",
    "print(\"ml_3p_product_count: \", ml_3p_product_count)\n",
    "print(\"random_search_term_count: \", random_search_term_count)\n"
   ]
  },
  {
   "cell_type": "code",
   "execution_count": 247,
   "metadata": {},
   "outputs": [],
   "source": [
    "# Create an empty DataFrame to store the data\n",
    "data = {'Query': [], 'Top 5 Offers': [], 'Top 5 Videos': [] , 'Summary': [], 'Summary_Length': [], 'Rating': [], 'Relevance': [], 'Reason': [], 'Execution_Time': []}\n",
    "df_scope = pd.DataFrame(data)"
   ]
  },
  {
   "cell_type": "code",
   "execution_count": 248,
   "metadata": {},
   "outputs": [
    {
     "name": "stdout",
     "output_type": "stream",
     "text": [
      "summarizing for Saving\n"
     ]
    },
    {
     "name": "stderr",
     "output_type": "stream",
     "text": [
      "/var/folders/61/2rwy7p9d079bx4z7vh2tq6f80000gq/T/ipykernel_14376/3763612098.py:31: SettingWithCopyWarning: \n",
      "A value is trying to be set on a copy of a slice from a DataFrame.\n",
      "Try using .loc[row_indexer,col_indexer] = value instead\n",
      "\n",
      "See the caveats in the documentation: https://pandas.pydata.org/pandas-docs/stable/user_guide/indexing.html#returning-a-view-versus-a-copy\n",
      "  videos_df['productId'] = videos_df['productId'].str.split(' ').str[0]\n",
      "/var/folders/61/2rwy7p9d079bx4z7vh2tq6f80000gq/T/ipykernel_14376/3763612098.py:36: UserWarning: pandas only supports SQLAlchemy connectable (engine/connection) or database string URI or sqlite3 DBAPI2 connection. Other DBAPI2 objects are not tested. Please consider using SQLAlchemy.\n",
      "  video_metadata_df_1 = pd.read_sql_query(video_query, connection_sf)\n"
     ]
    },
    {
     "name": "stdout",
     "output_type": "stream",
     "text": [
      "9 1 The summary is highly relevant as it discusses the benefits of a high yield savings account, which aligns with the offers and videos provided by MoneyLion. The summary could have included more specific details about MoneyLion's services to achieve a perfect score\n",
      "SUMMARY : \n",
      "Stop using your regular savings account and switch to a high yield savings account. You'll have easy access to your money, but it won't be too tempting to spend. Plus, you'll actually earn some decent interest. Cha-ching! 💰\n",
      "Source video: High Yield Savings: Unlocking Rewards\n",
      "summarizing for Tips for improving credit score\n"
     ]
    },
    {
     "name": "stderr",
     "output_type": "stream",
     "text": [
      "/var/folders/61/2rwy7p9d079bx4z7vh2tq6f80000gq/T/ipykernel_14376/3763612098.py:31: SettingWithCopyWarning: \n",
      "A value is trying to be set on a copy of a slice from a DataFrame.\n",
      "Try using .loc[row_indexer,col_indexer] = value instead\n",
      "\n",
      "See the caveats in the documentation: https://pandas.pydata.org/pandas-docs/stable/user_guide/indexing.html#returning-a-view-versus-a-copy\n",
      "  videos_df['productId'] = videos_df['productId'].str.split(' ').str[0]\n",
      "/var/folders/61/2rwy7p9d079bx4z7vh2tq6f80000gq/T/ipykernel_14376/3763612098.py:36: UserWarning: pandas only supports SQLAlchemy connectable (engine/connection) or database string URI or sqlite3 DBAPI2 connection. Other DBAPI2 objects are not tested. Please consider using SQLAlchemy.\n",
      "  video_metadata_df_1 = pd.read_sql_query(video_query, connection_sf)\n"
     ]
    },
    {
     "name": "stdout",
     "output_type": "stream",
     "text": [
      "8 1 Summary aligns with the theme of credit building and management, which is a key aspect of MoneyLion's offerings and content. However, it does not mention MoneyLion or its specific products directly\n",
      "SUMMARY : \n",
      "Don't toss your friend's credit card! Become an authorized user to instantly boost your credit score, just make sure the card meets the requirements. Say goodbye to that tiny inquiry and focus on paying your bills on time and keeping your debt under 30%.\n",
      "summarizing for How to invest in cryptocurrency?\n"
     ]
    },
    {
     "name": "stderr",
     "output_type": "stream",
     "text": [
      "/var/folders/61/2rwy7p9d079bx4z7vh2tq6f80000gq/T/ipykernel_14376/3763612098.py:31: SettingWithCopyWarning: \n",
      "A value is trying to be set on a copy of a slice from a DataFrame.\n",
      "Try using .loc[row_indexer,col_indexer] = value instead\n",
      "\n",
      "See the caveats in the documentation: https://pandas.pydata.org/pandas-docs/stable/user_guide/indexing.html#returning-a-view-versus-a-copy\n",
      "  videos_df['productId'] = videos_df['productId'].str.split(' ').str[0]\n",
      "/var/folders/61/2rwy7p9d079bx4z7vh2tq6f80000gq/T/ipykernel_14376/3763612098.py:36: UserWarning: pandas only supports SQLAlchemy connectable (engine/connection) or database string URI or sqlite3 DBAPI2 connection. Other DBAPI2 objects are not tested. Please consider using SQLAlchemy.\n",
      "  video_metadata_df_1 = pd.read_sql_query(video_query, connection_sf)\n"
     ]
    },
    {
     "name": "stdout",
     "output_type": "stream",
     "text": [
      "7 1 'Summary and source video are relevant to the context of MoneyLion's financial services, specifically the crypto service. However, the summary does not cover the full range of services and offers provided by MoneyLion\n",
      "SUMMARY : \n",
      "Investing in cryptocurrency? Just use the three-step system: read the white paper, check the supply and market cap, and gauge social media buzz. If people are talking about it, chances are it's worth buying - cha-ching! \n",
      "Source video: 'Investing in Crypto: A 3-Step System'\n",
      "summarizing for Maximize your savings with RoarMoney\n"
     ]
    },
    {
     "name": "stderr",
     "output_type": "stream",
     "text": [
      "/var/folders/61/2rwy7p9d079bx4z7vh2tq6f80000gq/T/ipykernel_14376/3763612098.py:31: SettingWithCopyWarning: \n",
      "A value is trying to be set on a copy of a slice from a DataFrame.\n",
      "Try using .loc[row_indexer,col_indexer] = value instead\n",
      "\n",
      "See the caveats in the documentation: https://pandas.pydata.org/pandas-docs/stable/user_guide/indexing.html#returning-a-view-versus-a-copy\n",
      "  videos_df['productId'] = videos_df['productId'].str.split(' ').str[0]\n",
      "/var/folders/61/2rwy7p9d079bx4z7vh2tq6f80000gq/T/ipykernel_14376/3763612098.py:36: UserWarning: pandas only supports SQLAlchemy connectable (engine/connection) or database string URI or sqlite3 DBAPI2 connection. Other DBAPI2 objects are not tested. Please consider using SQLAlchemy.\n",
      "  video_metadata_df_1 = pd.read_sql_query(video_query, connection_sf)\n"
     ]
    },
    {
     "name": "stdout",
     "output_type": "stream",
     "text": [
      "8 1 Summary is relevant to the source video and the 'Savings' offer. However, it does not touch upon other offers and videos\n",
      "SUMMARY : \n",
      "Maximize your savings in your 20s, because you don't want to be stuck eating ramen noodles at 40. Start with your emergency fund, then tackle your short-term goals, and finally save for those big dreams. Adulting has never tasted so good!\n",
      "Source video: Maximize Savings in Your 20s\n",
      "summarizing for AI Powered PFM Insights\n"
     ]
    },
    {
     "name": "stderr",
     "output_type": "stream",
     "text": [
      "/var/folders/61/2rwy7p9d079bx4z7vh2tq6f80000gq/T/ipykernel_14376/3763612098.py:31: SettingWithCopyWarning: \n",
      "A value is trying to be set on a copy of a slice from a DataFrame.\n",
      "Try using .loc[row_indexer,col_indexer] = value instead\n",
      "\n",
      "See the caveats in the documentation: https://pandas.pydata.org/pandas-docs/stable/user_guide/indexing.html#returning-a-view-versus-a-copy\n",
      "  videos_df['productId'] = videos_df['productId'].str.split(' ').str[0]\n",
      "/var/folders/61/2rwy7p9d079bx4z7vh2tq6f80000gq/T/ipykernel_14376/3763612098.py:36: UserWarning: pandas only supports SQLAlchemy connectable (engine/connection) or database string URI or sqlite3 DBAPI2 connection. Other DBAPI2 objects are not tested. Please consider using SQLAlchemy.\n",
      "  video_metadata_df_1 = pd.read_sql_query(video_query, connection_sf)\n"
     ]
    },
    {
     "name": "stdout",
     "output_type": "stream",
     "text": [
      "1 0 The summary is about AI taking over jobs and does not mention or relate to MoneyLion, its services, or its target users\n",
      "SUMMARY : \n",
      "AI might take over your job, but don't worry, graphic designers have a low risk of being replaced. So if you're not a graphic designer, sorry, you might be in trouble!\n",
      "Source video: 80% of Jobs Changed by AI?\n",
      "summarizing for Financial Content\n"
     ]
    },
    {
     "name": "stderr",
     "output_type": "stream",
     "text": [
      "/var/folders/61/2rwy7p9d079bx4z7vh2tq6f80000gq/T/ipykernel_14376/3763612098.py:31: SettingWithCopyWarning: \n",
      "A value is trying to be set on a copy of a slice from a DataFrame.\n",
      "Try using .loc[row_indexer,col_indexer] = value instead\n",
      "\n",
      "See the caveats in the documentation: https://pandas.pydata.org/pandas-docs/stable/user_guide/indexing.html#returning-a-view-versus-a-copy\n",
      "  videos_df['productId'] = videos_df['productId'].str.split(' ').str[0]\n",
      "/var/folders/61/2rwy7p9d079bx4z7vh2tq6f80000gq/T/ipykernel_14376/3763612098.py:36: UserWarning: pandas only supports SQLAlchemy connectable (engine/connection) or database string URI or sqlite3 DBAPI2 connection. Other DBAPI2 objects are not tested. Please consider using SQLAlchemy.\n",
      "  video_metadata_df_1 = pd.read_sql_query(video_query, connection_sf)\n"
     ]
    },
    {
     "name": "stdout",
     "output_type": "stream",
     "text": [
      "8 1 Summary is relevant to the source video and offers, but does not mention all the services provided by MoneyLion\n",
      "SUMMARY : \n",
      "Ladies, don't wait for a man to be your financial plan! Take control of your money, budget wisely, and invest in yourself. You are a financially wise woman!\n",
      "Source video: Become a Financially Wise Woman\n",
      "summarizing for Life Insurance\n"
     ]
    },
    {
     "name": "stderr",
     "output_type": "stream",
     "text": [
      "/var/folders/61/2rwy7p9d079bx4z7vh2tq6f80000gq/T/ipykernel_14376/3763612098.py:31: SettingWithCopyWarning: \n",
      "A value is trying to be set on a copy of a slice from a DataFrame.\n",
      "Try using .loc[row_indexer,col_indexer] = value instead\n",
      "\n",
      "See the caveats in the documentation: https://pandas.pydata.org/pandas-docs/stable/user_guide/indexing.html#returning-a-view-versus-a-copy\n",
      "  videos_df['productId'] = videos_df['productId'].str.split(' ').str[0]\n",
      "/var/folders/61/2rwy7p9d079bx4z7vh2tq6f80000gq/T/ipykernel_14376/3763612098.py:36: UserWarning: pandas only supports SQLAlchemy connectable (engine/connection) or database string URI or sqlite3 DBAPI2 connection. Other DBAPI2 objects are not tested. Please consider using SQLAlchemy.\n",
      "  video_metadata_df_1 = pd.read_sql_query(video_query, connection_sf)\n"
     ]
    },
    {
     "name": "stdout",
     "output_type": "stream",
     "text": [
      "8 1 Summary is relevant as it discusses life insurance, which is one of the 3rd party financial products offered by MoneyLion. However, it does not mention other key products and services of MoneyLion\n",
      "SUMMARY : \n",
      "Life insurance isn't just for the rich! It's a way to create generational wealth and provide tax-free income to your loved ones. So don't brush off life insurance, find the right coverage and secure your family's financial future today!\n",
      "Source video: Life Insurance: Don't Disregard\n",
      "summarizing for Travel Insurance\n"
     ]
    },
    {
     "name": "stderr",
     "output_type": "stream",
     "text": [
      "/var/folders/61/2rwy7p9d079bx4z7vh2tq6f80000gq/T/ipykernel_14376/3763612098.py:31: SettingWithCopyWarning: \n",
      "A value is trying to be set on a copy of a slice from a DataFrame.\n",
      "Try using .loc[row_indexer,col_indexer] = value instead\n",
      "\n",
      "See the caveats in the documentation: https://pandas.pydata.org/pandas-docs/stable/user_guide/indexing.html#returning-a-view-versus-a-copy\n",
      "  videos_df['productId'] = videos_df['productId'].str.split(' ').str[0]\n",
      "/var/folders/61/2rwy7p9d079bx4z7vh2tq6f80000gq/T/ipykernel_14376/3763612098.py:36: UserWarning: pandas only supports SQLAlchemy connectable (engine/connection) or database string URI or sqlite3 DBAPI2 connection. Other DBAPI2 objects are not tested. Please consider using SQLAlchemy.\n",
      "  video_metadata_df_1 = pd.read_sql_query(video_query, connection_sf)\n"
     ]
    },
    {
     "name": "stdout",
     "output_type": "stream",
     "text": [
      "8 1 Summary is relevant to the source video and the topic of life insurance, but does not cover all aspects of MoneyLion's services and offers\n",
      "SUMMARY : \n",
      "Life insurance is actually important, not a scam! Don't disregard it, find the right coverage and provide tax-free income to your loved ones. Trust me, you don't want to leave them empty-handed. \n",
      "Source video: Life Insurance: Don't Disregard\n",
      "summarizing for Holidays\n"
     ]
    },
    {
     "name": "stderr",
     "output_type": "stream",
     "text": [
      "/var/folders/61/2rwy7p9d079bx4z7vh2tq6f80000gq/T/ipykernel_14376/3763612098.py:31: SettingWithCopyWarning: \n",
      "A value is trying to be set on a copy of a slice from a DataFrame.\n",
      "Try using .loc[row_indexer,col_indexer] = value instead\n",
      "\n",
      "See the caveats in the documentation: https://pandas.pydata.org/pandas-docs/stable/user_guide/indexing.html#returning-a-view-versus-a-copy\n",
      "  videos_df['productId'] = videos_df['productId'].str.split(' ').str[0]\n",
      "/var/folders/61/2rwy7p9d079bx4z7vh2tq6f80000gq/T/ipykernel_14376/3763612098.py:36: UserWarning: pandas only supports SQLAlchemy connectable (engine/connection) or database string URI or sqlite3 DBAPI2 connection. Other DBAPI2 objects are not tested. Please consider using SQLAlchemy.\n",
      "  video_metadata_df_1 = pd.read_sql_query(video_query, connection_sf)\n"
     ]
    },
    {
     "name": "stdout",
     "output_type": "stream",
     "text": [
      "7 1 Summary focuses on budgeting and avoiding debt, which aligns with MoneyLion's target audience and mission. However, it does not directly mention or relate to the specific products or services offered by MoneyLion\n",
      "SUMMARY : \n",
      "Don't let the holiday spending frenzy put you in debt! Make a budget and stick to it, because spending time with loved ones is more important than material gifts. Start the new year without the headache of credit card debt.\n",
      "summarizing for Beauty\n"
     ]
    },
    {
     "name": "stderr",
     "output_type": "stream",
     "text": [
      "/var/folders/61/2rwy7p9d079bx4z7vh2tq6f80000gq/T/ipykernel_14376/3763612098.py:36: UserWarning: pandas only supports SQLAlchemy connectable (engine/connection) or database string URI or sqlite3 DBAPI2 connection. Other DBAPI2 objects are not tested. Please consider using SQLAlchemy.\n",
      "  video_metadata_df_1 = pd.read_sql_query(video_query, connection_sf)\n"
     ]
    },
    {
     "name": "stdout",
     "output_type": "stream",
     "text": [
      "8 1 'Summary is relevant to the source video \"Retiring at 30?\" and touches on the theme of financial planning and budgeting, which aligns with MoneyLion's services and target audience\n",
      "SUMMARY : \n",
      "\"Retire early and still have a social life? Just create a strict budget and include your investments as an expense. Who said you can't have it all? #EarlyRetirementGoals\"\n",
      "Source video: Retiring at 30?\n"
     ]
    }
   ],
   "source": [
    "for query in random_search_term_list:\n",
    "    # if the query exists in the df, skip\n",
    "    if query in df['Query'].tolist() or not isinstance(query, str):\n",
    "        continue\n",
    "    # get universal search result\n",
    "    df_result = get_universal_search_result(query)\n",
    "    if not df_result.empty:\n",
    "        print(\"summarizing for \" + query)\n",
    "        # extract video metadata based on productId in videos\n",
    "        df_result_enriched = extract_video_metadata(df_result)\n",
    "        start_time = time.time()\n",
    "        while True:\n",
    "            summary, summary_length, offer_list, video_list = get_gpt_summary(df_result_enriched)\n",
    "            if len(summary.split()) <= 50:\n",
    "                end_time = time.time()\n",
    "                break\n",
    "            else:\n",
    "                print(\"retrying for \" + query)\n",
    "        execution_time = end_time - start_time\n",
    "        #evaluation\n",
    "        evaluation_prompt = EVALUATION_PROMPT.format(summary=summary, offer_list=offer_list, video_list=video_list)\n",
    "        m1, m2, m3 = (\"\", \"\", \"\")\n",
    "        while True:\n",
    "            try:\n",
    "                _response, evaluation_response_content = get_gpt_response(evaluation_prompt,temperature=0 , model = \"gpt-4\")\n",
    "\n",
    "                m1 = re.search(r\"result_rating=([0-9]+)\", evaluation_response_content).groups()[0]\n",
    "                m2 = re.search(r\"result_relevance=([0-1])\", evaluation_response_content).groups()[\n",
    "                    0\n",
    "                ]\n",
    "                m3 = re.search(r\"rating_reason=(.*)\\b\", evaluation_response_content).groups()[0]\n",
    "                if m1 and m2 and m3:\n",
    "                    print(m1, m2, m3)\n",
    "                    break\n",
    "            except:\n",
    "                print(f\"Retry evaluation for {query}\")\n",
    "                pass\n",
    "        new_data = pd.DataFrame({'Query': [query], 'Top 5 Offers': [offer_list], 'Top 5 Videos': [video_list], 'Summary': [summary], 'Summary_length': [summary_length], 'Rating': [m1], 'Relevance': [m2], 'Reason': [m3], 'Execution_Time': [execution_time]})\n",
    "        df_scope = pd.concat([df_scope, new_data], ignore_index=True)\n",
    "        print(\"SUMMARY : \\n\"+ summary)\n",
    "\n",
    "    else:\n",
    "        print(\"No result found, fail silently\")\n"
   ]
  },
  {
   "cell_type": "code",
   "execution_count": 260,
   "metadata": {},
   "outputs": [],
   "source": [
    "# categorize 'Query' back to its source list\n",
    "df_scope['Query_Category'] = df_scope['Query'].apply(lambda x: 'SEARCH_SUGGESTIONS_LIST' if x in SEARCH_SUGGESTIONS_LIST else ('ML_MAIN_PRODUCT' if x in ML_MAIN_PRODUCT else ('ML_3P_PRODUCT' if x in ML_3P_PRODUCT else 'RANDOM_SEARCH_TERM')))"
   ]
  },
  {
   "cell_type": "code",
   "execution_count": 261,
   "metadata": {},
   "outputs": [],
   "source": [
    "df_scope.to_csv('../../scope_summary_GENAI_SUMMARY_PROMPT_VIDEO.csv', index=False)"
   ]
  },
  {
   "cell_type": "markdown",
   "metadata": {},
   "source": [
    "### Debounce input testing\n",
    "Objective : To show that the model is capable of intepreting the full context from a non-complete search query\n",
    "Example : If user searches 'ro' , it should generate a summary on a video based on the intended context 'roarmoney'\n",
    "\n",
    "Generally, the debounce would not impact the summarization since it only reads the video metadata, but its for a checking point"
   ]
  },
  {
   "cell_type": "code",
   "execution_count": 250,
   "metadata": {},
   "outputs": [
    {
     "data": {
      "text/plain": [
       "['membership',\n",
       " 'car',\n",
       " 'ca',\n",
       " 'money',\n",
       " 'ch',\n",
       " 'password',\n",
       " 'peer boost',\n",
       " 'instacash',\n",
       " 'cr',\n",
       " 'ze',\n",
       " 'mobil',\n",
       " 'apple',\n",
       " 'investing',\n",
       " 'deb',\n",
       " 'ro',\n",
       " 'change p',\n",
       " 'che',\n",
       " 'se',\n",
       " 'credit b',\n",
       " 'roar mon']"
      ]
     },
     "execution_count": 250,
     "metadata": {},
     "output_type": "execute_result"
    }
   ],
   "source": [
    "# extract random queries from top_300_inputs.csv\n",
    "df = pd.read_csv('../../top_300_inputs.csv')\n",
    "df = df.sample(n=20)\n",
    "# convert INPUT column to list\n",
    "random_debounce_terms_list = df['INPUT'].tolist()\n",
    "random_debounce_terms_list"
   ]
  },
  {
   "cell_type": "code",
   "execution_count": 253,
   "metadata": {},
   "outputs": [],
   "source": [
    "# Create an empty DataFrame to store the data\n",
    "data = {'Query': [], 'Top 5 Offers': [], 'Top 5 Videos': [] , 'Summary': [], 'Summary_Length': [], 'Rating': [], 'Relevance': [], 'Reason': [], 'Execution_Time': []}\n",
    "df_debounce = pd.DataFrame(data)"
   ]
  },
  {
   "cell_type": "code",
   "execution_count": 254,
   "metadata": {},
   "outputs": [
    {
     "name": "stdout",
     "output_type": "stream",
     "text": [
      "summarizing for membership\n"
     ]
    },
    {
     "name": "stderr",
     "output_type": "stream",
     "text": [
      "/var/folders/61/2rwy7p9d079bx4z7vh2tq6f80000gq/T/ipykernel_14376/3763612098.py:36: UserWarning: pandas only supports SQLAlchemy connectable (engine/connection) or database string URI or sqlite3 DBAPI2 connection. Other DBAPI2 objects are not tested. Please consider using SQLAlchemy.\n",
      "  video_metadata_df_1 = pd.read_sql_query(video_query, connection_sf)\n"
     ]
    },
    {
     "name": "stdout",
     "output_type": "stream",
     "text": [
      "8 1 Summary is relevant to the source video and offers, but does not cover all aspects of MoneyLion's services\n",
      "SUMMARY : \n",
      "Don't want to pay for a Costco membership? Just get a Costco gift card for as little as $25 and shop to your heart's content without any membership fees! It's like having your cake and eating it too, all while saving some bucks!\n",
      "Source video: Shop Costco for Free\n",
      "summarizing for car\n"
     ]
    },
    {
     "name": "stderr",
     "output_type": "stream",
     "text": [
      "/var/folders/61/2rwy7p9d079bx4z7vh2tq6f80000gq/T/ipykernel_14376/3763612098.py:31: SettingWithCopyWarning: \n",
      "A value is trying to be set on a copy of a slice from a DataFrame.\n",
      "Try using .loc[row_indexer,col_indexer] = value instead\n",
      "\n",
      "See the caveats in the documentation: https://pandas.pydata.org/pandas-docs/stable/user_guide/indexing.html#returning-a-view-versus-a-copy\n",
      "  videos_df['productId'] = videos_df['productId'].str.split(' ').str[0]\n",
      "/var/folders/61/2rwy7p9d079bx4z7vh2tq6f80000gq/T/ipykernel_14376/3763612098.py:36: UserWarning: pandas only supports SQLAlchemy connectable (engine/connection) or database string URI or sqlite3 DBAPI2 connection. Other DBAPI2 objects are not tested. Please consider using SQLAlchemy.\n",
      "  video_metadata_df_1 = pd.read_sql_query(video_query, connection_sf)\n"
     ]
    },
    {
     "name": "stdout",
     "output_type": "stream",
     "text": [
      "6 1 'Summary is relevant to some offers and videos, but not all\n",
      "SUMMARY : \n",
      "Don't fall for those expensive car upgrades like nitrogen-filled tires and paddle shifters! Save yourself from headaches and wasted money by sticking to the essentials. Say no to useless upgrades and keep your wallet happy!\n",
      "Source video: Unnecessary Car Upgrades\n",
      "summarizing for ca\n"
     ]
    },
    {
     "name": "stderr",
     "output_type": "stream",
     "text": [
      "/var/folders/61/2rwy7p9d079bx4z7vh2tq6f80000gq/T/ipykernel_14376/3763612098.py:31: SettingWithCopyWarning: \n",
      "A value is trying to be set on a copy of a slice from a DataFrame.\n",
      "Try using .loc[row_indexer,col_indexer] = value instead\n",
      "\n",
      "See the caveats in the documentation: https://pandas.pydata.org/pandas-docs/stable/user_guide/indexing.html#returning-a-view-versus-a-copy\n",
      "  videos_df['productId'] = videos_df['productId'].str.split(' ').str[0]\n",
      "/var/folders/61/2rwy7p9d079bx4z7vh2tq6f80000gq/T/ipykernel_14376/3763612098.py:36: UserWarning: pandas only supports SQLAlchemy connectable (engine/connection) or database string URI or sqlite3 DBAPI2 connection. Other DBAPI2 objects are not tested. Please consider using SQLAlchemy.\n",
      "  video_metadata_df_1 = pd.read_sql_query(video_query, connection_sf)\n"
     ]
    },
    {
     "name": "stdout",
     "output_type": "stream",
     "text": [
      "2 0 Summary does not match the context of MoneyLion's financial services and products\n",
      "SUMMARY : \n",
      "Are you wondering if you can afford a fancy Tesla? Well, you better be making six figures, my friend! The key takeaway? Don't drool over that electric dream car unless you're rolling in the dough. \n",
      "Source video: Can You Afford a Tesla?\n",
      "summarizing for money\n"
     ]
    },
    {
     "name": "stderr",
     "output_type": "stream",
     "text": [
      "/var/folders/61/2rwy7p9d079bx4z7vh2tq6f80000gq/T/ipykernel_14376/3763612098.py:31: SettingWithCopyWarning: \n",
      "A value is trying to be set on a copy of a slice from a DataFrame.\n",
      "Try using .loc[row_indexer,col_indexer] = value instead\n",
      "\n",
      "See the caveats in the documentation: https://pandas.pydata.org/pandas-docs/stable/user_guide/indexing.html#returning-a-view-versus-a-copy\n",
      "  videos_df['productId'] = videos_df['productId'].str.split(' ').str[0]\n",
      "/var/folders/61/2rwy7p9d079bx4z7vh2tq6f80000gq/T/ipykernel_14376/3763612098.py:36: UserWarning: pandas only supports SQLAlchemy connectable (engine/connection) or database string URI or sqlite3 DBAPI2 connection. Other DBAPI2 objects are not tested. Please consider using SQLAlchemy.\n",
      "  video_metadata_df_1 = pd.read_sql_query(video_query, connection_sf)\n"
     ]
    },
    {
     "name": "stdout",
     "output_type": "stream",
     "text": [
      "7 1 Summary provides financial advice that aligns with MoneyLion's mission and services, but does not directly mention or promote specific products or offers\n",
      "SUMMARY : \n",
      "Wanna retire early? Save and invest 20% of your income, minimize your housing and transportation expenses, and treat yourself with 15% of your paycheck. Because who says you can't enjoy life while building wealth?\n",
      "Source video: Money Mastery: How to Do It\n",
      "summarizing for ch\n"
     ]
    },
    {
     "name": "stderr",
     "output_type": "stream",
     "text": [
      "/var/folders/61/2rwy7p9d079bx4z7vh2tq6f80000gq/T/ipykernel_14376/3763612098.py:31: SettingWithCopyWarning: \n",
      "A value is trying to be set on a copy of a slice from a DataFrame.\n",
      "Try using .loc[row_indexer,col_indexer] = value instead\n",
      "\n",
      "See the caveats in the documentation: https://pandas.pydata.org/pandas-docs/stable/user_guide/indexing.html#returning-a-view-versus-a-copy\n",
      "  videos_df['productId'] = videos_df['productId'].str.split(' ').str[0]\n",
      "/var/folders/61/2rwy7p9d079bx4z7vh2tq6f80000gq/T/ipykernel_14376/3763612098.py:36: UserWarning: pandas only supports SQLAlchemy connectable (engine/connection) or database string URI or sqlite3 DBAPI2 connection. Other DBAPI2 objects are not tested. Please consider using SQLAlchemy.\n",
      "  video_metadata_df_1 = pd.read_sql_query(video_query, connection_sf)\n"
     ]
    },
    {
     "name": "stdout",
     "output_type": "stream",
     "text": [
      "0 0 The summary is about a recipe for chili cheese fries, which is not relevant to the financial services and products offered by MoneyLion\n",
      "SUMMARY : \n",
      "Get ready to satisfy your cheesy cravings with this delicious and wallet-friendly recipe for chili cheese fries! Say goodbye to expensive takeout and hello to a cheap and easy homemade meal that will leave you wanting more.\n",
      "Empty result - password\n",
      "No result found, fail silently\n",
      "summarizing for peer boost\n"
     ]
    },
    {
     "name": "stderr",
     "output_type": "stream",
     "text": [
      "/var/folders/61/2rwy7p9d079bx4z7vh2tq6f80000gq/T/ipykernel_14376/3763612098.py:31: SettingWithCopyWarning: \n",
      "A value is trying to be set on a copy of a slice from a DataFrame.\n",
      "Try using .loc[row_indexer,col_indexer] = value instead\n",
      "\n",
      "See the caveats in the documentation: https://pandas.pydata.org/pandas-docs/stable/user_guide/indexing.html#returning-a-view-versus-a-copy\n",
      "  videos_df['productId'] = videos_df['productId'].str.split(' ').str[0]\n",
      "/var/folders/61/2rwy7p9d079bx4z7vh2tq6f80000gq/T/ipykernel_14376/3763612098.py:36: UserWarning: pandas only supports SQLAlchemy connectable (engine/connection) or database string URI or sqlite3 DBAPI2 connection. Other DBAPI2 objects are not tested. Please consider using SQLAlchemy.\n",
      "  video_metadata_df_1 = pd.read_sql_query(video_query, connection_sf)\n"
     ]
    },
    {
     "name": "stdout",
     "output_type": "stream",
     "text": [
      "7 1 Summary is relevant to the source video and the theme of savings and wealth growth, but does not directly relate to the specific offers or other videos\n",
      "SUMMARY : \n",
      "Looking to boost your savings? Learn how to save 50% or more of your income and watch your wealth grow. Trust me, you'll be living in a mansion in Detroit while your friends are stuck in tiny studio apartments in Boston. #SavingsGoals\n",
      "Source video: \"Boost Your Wealth: Save 50%+\"\n",
      "summarizing for instacash\n"
     ]
    },
    {
     "name": "stderr",
     "output_type": "stream",
     "text": [
      "/var/folders/61/2rwy7p9d079bx4z7vh2tq6f80000gq/T/ipykernel_14376/3763612098.py:31: SettingWithCopyWarning: \n",
      "A value is trying to be set on a copy of a slice from a DataFrame.\n",
      "Try using .loc[row_indexer,col_indexer] = value instead\n",
      "\n",
      "See the caveats in the documentation: https://pandas.pydata.org/pandas-docs/stable/user_guide/indexing.html#returning-a-view-versus-a-copy\n",
      "  videos_df['productId'] = videos_df['productId'].str.split(' ').str[0]\n",
      "/var/folders/61/2rwy7p9d079bx4z7vh2tq6f80000gq/T/ipykernel_14376/3763612098.py:36: UserWarning: pandas only supports SQLAlchemy connectable (engine/connection) or database string URI or sqlite3 DBAPI2 connection. Other DBAPI2 objects are not tested. Please consider using SQLAlchemy.\n",
      "  video_metadata_df_1 = pd.read_sql_query(video_query, connection_sf)\n"
     ]
    },
    {
     "name": "stdout",
     "output_type": "stream",
     "text": [
      "retrying for instacash\n",
      "9 1 Accurate and engaging description of Instacash product and its uses\n",
      "SUMMARY : \n",
      "Whenever you're in a financial jam, MoneyLion's got your back with Instacash! Get up to $1,000 in cash advances to cover those unexpected expenses. No more stressing about school costs or waiting for your next payday. MoneyLion has your Instacash needs covered! #InstantCashFix\n",
      "summarizing for cr\n"
     ]
    },
    {
     "name": "stderr",
     "output_type": "stream",
     "text": [
      "/var/folders/61/2rwy7p9d079bx4z7vh2tq6f80000gq/T/ipykernel_14376/3763612098.py:31: SettingWithCopyWarning: \n",
      "A value is trying to be set on a copy of a slice from a DataFrame.\n",
      "Try using .loc[row_indexer,col_indexer] = value instead\n",
      "\n",
      "See the caveats in the documentation: https://pandas.pydata.org/pandas-docs/stable/user_guide/indexing.html#returning-a-view-versus-a-copy\n",
      "  videos_df['productId'] = videos_df['productId'].str.split(' ').str[0]\n",
      "/var/folders/61/2rwy7p9d079bx4z7vh2tq6f80000gq/T/ipykernel_14376/3763612098.py:36: UserWarning: pandas only supports SQLAlchemy connectable (engine/connection) or database string URI or sqlite3 DBAPI2 connection. Other DBAPI2 objects are not tested. Please consider using SQLAlchemy.\n",
      "  video_metadata_df_1 = pd.read_sql_query(video_query, connection_sf)\n"
     ]
    },
    {
     "name": "stdout",
     "output_type": "stream",
     "text": [
      "8 1 Summary is relevant as it discusses credit cards, which aligns with MoneyLion's Credit Builder product and the content of the source video and other videos. However, it does not mention other key products or services offered by MoneyLion\n",
      "SUMMARY : \n",
      "So, credit cards are like borrowing money from a friend who charges you a fortune if you don't pay them back. Get one, use it wisely, and increase your chances of buying a car, getting student loans, and even buying a house!\n",
      "Source video: Credit Card Basics\n",
      "summarizing for ze\n"
     ]
    },
    {
     "name": "stderr",
     "output_type": "stream",
     "text": [
      "/var/folders/61/2rwy7p9d079bx4z7vh2tq6f80000gq/T/ipykernel_14376/3763612098.py:36: UserWarning: pandas only supports SQLAlchemy connectable (engine/connection) or database string URI or sqlite3 DBAPI2 connection. Other DBAPI2 objects are not tested. Please consider using SQLAlchemy.\n",
      "  video_metadata_df_1 = pd.read_sql_query(video_query, connection_sf)\n"
     ]
    },
    {
     "name": "stdout",
     "output_type": "stream",
     "text": [
      "8 1 Summary is relevant as it discusses budgeting, a key aspect of financial management which is a focus of MoneyLion. However, it does not directly mention or relate to any specific MoneyLion product or service\n",
      "SUMMARY : \n",
      "Budgeting your finances can be fun and mindful with the zero-based budgeting method- every dollar you earn has a purpose, just like that jar of cookies you buy to satisfy your cravings! 🍪💰\n",
      "Source video: Zero-Based Budgeting: A Mindful Way\n",
      "summarizing for mobil\n"
     ]
    },
    {
     "name": "stderr",
     "output_type": "stream",
     "text": [
      "/var/folders/61/2rwy7p9d079bx4z7vh2tq6f80000gq/T/ipykernel_14376/3763612098.py:31: SettingWithCopyWarning: \n",
      "A value is trying to be set on a copy of a slice from a DataFrame.\n",
      "Try using .loc[row_indexer,col_indexer] = value instead\n",
      "\n",
      "See the caveats in the documentation: https://pandas.pydata.org/pandas-docs/stable/user_guide/indexing.html#returning-a-view-versus-a-copy\n",
      "  videos_df['productId'] = videos_df['productId'].str.split(' ').str[0]\n",
      "/var/folders/61/2rwy7p9d079bx4z7vh2tq6f80000gq/T/ipykernel_14376/3763612098.py:36: UserWarning: pandas only supports SQLAlchemy connectable (engine/connection) or database string URI or sqlite3 DBAPI2 connection. Other DBAPI2 objects are not tested. Please consider using SQLAlchemy.\n",
      "  video_metadata_df_1 = pd.read_sql_query(video_query, connection_sf)\n"
     ]
    },
    {
     "name": "stdout",
     "output_type": "stream",
     "text": [
      "retrying for mobil\n",
      "2 0 'Summary does not match the context of MoneyLion's financial services and products\n",
      "SUMMARY : \n",
      "Did you know the cloud and cyber security are like peanut butter and jelly? They're both important, but watch out for those hackers! Stay protected and keep your data secure, because even governments can't escape the cyber threat.\n",
      "Source video: What could the future of mobility look like?\n",
      "summarizing for apple\n"
     ]
    },
    {
     "name": "stderr",
     "output_type": "stream",
     "text": [
      "/var/folders/61/2rwy7p9d079bx4z7vh2tq6f80000gq/T/ipykernel_14376/3763612098.py:36: UserWarning: pandas only supports SQLAlchemy connectable (engine/connection) or database string URI or sqlite3 DBAPI2 connection. Other DBAPI2 objects are not tested. Please consider using SQLAlchemy.\n",
      "  video_metadata_df_1 = pd.read_sql_query(video_query, connection_sf)\n"
     ]
    },
    {
     "name": "stdout",
     "output_type": "stream",
     "text": [
      "0 0 'Summary not related to MoneyLion's financial services\n",
      "SUMMARY : \n",
      "Bill Gates must be kicking himself for selling his shares in Apple back in the day. If he held onto them, he could've been $75 billion richer. Talk about a missed opportunity! \n",
      "Source video: Apple: Bill Gates' $75 Billion Mistake\n",
      "summarizing for investing\n"
     ]
    },
    {
     "name": "stderr",
     "output_type": "stream",
     "text": [
      "/var/folders/61/2rwy7p9d079bx4z7vh2tq6f80000gq/T/ipykernel_14376/3763612098.py:31: SettingWithCopyWarning: \n",
      "A value is trying to be set on a copy of a slice from a DataFrame.\n",
      "Try using .loc[row_indexer,col_indexer] = value instead\n",
      "\n",
      "See the caveats in the documentation: https://pandas.pydata.org/pandas-docs/stable/user_guide/indexing.html#returning-a-view-versus-a-copy\n",
      "  videos_df['productId'] = videos_df['productId'].str.split(' ').str[0]\n",
      "/var/folders/61/2rwy7p9d079bx4z7vh2tq6f80000gq/T/ipykernel_14376/3763612098.py:36: UserWarning: pandas only supports SQLAlchemy connectable (engine/connection) or database string URI or sqlite3 DBAPI2 connection. Other DBAPI2 objects are not tested. Please consider using SQLAlchemy.\n",
      "  video_metadata_df_1 = pd.read_sql_query(video_query, connection_sf)\n"
     ]
    },
    {
     "name": "stdout",
     "output_type": "stream",
     "text": [
      "7 1 Summary is relevant to the source video and offer, but does not cover all aspects of the context provided\n",
      "SUMMARY : \n",
      "Don't beat yourself up over not knowing about investing. It's okay to start now, even if you didn't know about the Roth IRA when you were a little fetus. It's all good, so just jump in and get started! \n",
      "Source video: Investing 101: It's Okay\n",
      "summarizing for deb\n"
     ]
    },
    {
     "name": "stderr",
     "output_type": "stream",
     "text": [
      "/var/folders/61/2rwy7p9d079bx4z7vh2tq6f80000gq/T/ipykernel_14376/3763612098.py:31: SettingWithCopyWarning: \n",
      "A value is trying to be set on a copy of a slice from a DataFrame.\n",
      "Try using .loc[row_indexer,col_indexer] = value instead\n",
      "\n",
      "See the caveats in the documentation: https://pandas.pydata.org/pandas-docs/stable/user_guide/indexing.html#returning-a-view-versus-a-copy\n",
      "  videos_df['productId'] = videos_df['productId'].str.split(' ').str[0]\n",
      "/var/folders/61/2rwy7p9d079bx4z7vh2tq6f80000gq/T/ipykernel_14376/3763612098.py:36: UserWarning: pandas only supports SQLAlchemy connectable (engine/connection) or database string URI or sqlite3 DBAPI2 connection. Other DBAPI2 objects are not tested. Please consider using SQLAlchemy.\n",
      "  video_metadata_df_1 = pd.read_sql_query(video_query, connection_sf)\n"
     ]
    },
    {
     "name": "stdout",
     "output_type": "stream",
     "text": [
      "retrying for deb\n",
      "8 1 Summary discusses the concept of debt, which is relevant to the offers and videos about managing debt, loans, and credit building. However, it does not directly mention any of MoneyLion's specific products or services\n",
      "SUMMARY : \n",
      "Stick it to the man and borrow all the money you can! Debt isn't always a bad thing if you use it wisely. Learn how the rich get rich and how the poor stay poor by understanding good debt versus bad debt.\n",
      "Source video: Debt Secrets: Rich vs Poor Explained\n",
      "summarizing for ro\n"
     ]
    },
    {
     "name": "stderr",
     "output_type": "stream",
     "text": [
      "/var/folders/61/2rwy7p9d079bx4z7vh2tq6f80000gq/T/ipykernel_14376/3763612098.py:31: SettingWithCopyWarning: \n",
      "A value is trying to be set on a copy of a slice from a DataFrame.\n",
      "Try using .loc[row_indexer,col_indexer] = value instead\n",
      "\n",
      "See the caveats in the documentation: https://pandas.pydata.org/pandas-docs/stable/user_guide/indexing.html#returning-a-view-versus-a-copy\n",
      "  videos_df['productId'] = videos_df['productId'].str.split(' ').str[0]\n",
      "/var/folders/61/2rwy7p9d079bx4z7vh2tq6f80000gq/T/ipykernel_14376/3763612098.py:36: UserWarning: pandas only supports SQLAlchemy connectable (engine/connection) or database string URI or sqlite3 DBAPI2 connection. Other DBAPI2 objects are not tested. Please consider using SQLAlchemy.\n",
      "  video_metadata_df_1 = pd.read_sql_query(video_query, connection_sf)\n"
     ]
    },
    {
     "name": "stdout",
     "output_type": "stream",
     "text": [
      "5 1 The summary is somewhat relevant as it discusses financial decision-making and investment strategies, which aligns with MoneyLion's mission to improve financial inclusivity and its product offerings such as investment accounts. However, it does not directly mention or relate to any specific MoneyLion products or services, hence the average rating\n",
      "SUMMARY : \n",
      "Make money moves like Roger Federer - he turned a $10 million sponsorship into $600 million by asking for equity in a big company instead! Time to negotiate like a tennis champ!\n",
      "Source video: Roger's $600M Secret\n",
      "summarizing for change p\n"
     ]
    },
    {
     "name": "stderr",
     "output_type": "stream",
     "text": [
      "/var/folders/61/2rwy7p9d079bx4z7vh2tq6f80000gq/T/ipykernel_14376/3763612098.py:31: SettingWithCopyWarning: \n",
      "A value is trying to be set on a copy of a slice from a DataFrame.\n",
      "Try using .loc[row_indexer,col_indexer] = value instead\n",
      "\n",
      "See the caveats in the documentation: https://pandas.pydata.org/pandas-docs/stable/user_guide/indexing.html#returning-a-view-versus-a-copy\n",
      "  videos_df['productId'] = videos_df['productId'].str.split(' ').str[0]\n",
      "/var/folders/61/2rwy7p9d079bx4z7vh2tq6f80000gq/T/ipykernel_14376/3763612098.py:36: UserWarning: pandas only supports SQLAlchemy connectable (engine/connection) or database string URI or sqlite3 DBAPI2 connection. Other DBAPI2 objects are not tested. Please consider using SQLAlchemy.\n",
      "  video_metadata_df_1 = pd.read_sql_query(video_query, connection_sf)\n"
     ]
    },
    {
     "name": "stdout",
     "output_type": "stream",
     "text": [
      "3 0 'Summary does not directly relate to the specific offers and videos provided by MoneyLion\n",
      "SUMMARY : \n",
      "Wanna beat inflation? Stop wishing things cost less and start wishing you made more money! Find out how to increase your income and kick inflation's butt in this hilarious video.\n",
      "Source video: 'Beat Inflation: Make More'\n",
      "summarizing for che\n"
     ]
    },
    {
     "name": "stderr",
     "output_type": "stream",
     "text": [
      "/var/folders/61/2rwy7p9d079bx4z7vh2tq6f80000gq/T/ipykernel_14376/3763612098.py:31: SettingWithCopyWarning: \n",
      "A value is trying to be set on a copy of a slice from a DataFrame.\n",
      "Try using .loc[row_indexer,col_indexer] = value instead\n",
      "\n",
      "See the caveats in the documentation: https://pandas.pydata.org/pandas-docs/stable/user_guide/indexing.html#returning-a-view-versus-a-copy\n",
      "  videos_df['productId'] = videos_df['productId'].str.split(' ').str[0]\n",
      "/var/folders/61/2rwy7p9d079bx4z7vh2tq6f80000gq/T/ipykernel_14376/3763612098.py:36: UserWarning: pandas only supports SQLAlchemy connectable (engine/connection) or database string URI or sqlite3 DBAPI2 connection. Other DBAPI2 objects are not tested. Please consider using SQLAlchemy.\n",
      "  video_metadata_df_1 = pd.read_sql_query(video_query, connection_sf)\n"
     ]
    },
    {
     "name": "stdout",
     "output_type": "stream",
     "text": [
      "7 1 The summary is relevant as it provides a tip on saving money, which aligns with MoneyLion's mission of helping individuals manage their personal finances more effectively. However, it does not directly mention or relate to any of the specific MoneyLion products or services\n",
      "SUMMARY : \n",
      "Don't break the bank at the grocery store! Use the self checkout lane to avoid impulse buying and save yourself $314 a month on all those tempting goodies.\n",
      "Source video: Check yourself out when shopping\n",
      "summarizing for se\n"
     ]
    },
    {
     "name": "stderr",
     "output_type": "stream",
     "text": [
      "/var/folders/61/2rwy7p9d079bx4z7vh2tq6f80000gq/T/ipykernel_14376/3763612098.py:31: SettingWithCopyWarning: \n",
      "A value is trying to be set on a copy of a slice from a DataFrame.\n",
      "Try using .loc[row_indexer,col_indexer] = value instead\n",
      "\n",
      "See the caveats in the documentation: https://pandas.pydata.org/pandas-docs/stable/user_guide/indexing.html#returning-a-view-versus-a-copy\n",
      "  videos_df['productId'] = videos_df['productId'].str.split(' ').str[0]\n",
      "/var/folders/61/2rwy7p9d079bx4z7vh2tq6f80000gq/T/ipykernel_14376/3763612098.py:36: UserWarning: pandas only supports SQLAlchemy connectable (engine/connection) or database string URI or sqlite3 DBAPI2 connection. Other DBAPI2 objects are not tested. Please consider using SQLAlchemy.\n",
      "  video_metadata_df_1 = pd.read_sql_query(video_query, connection_sf)\n"
     ]
    },
    {
     "name": "stdout",
     "output_type": "stream",
     "text": [
      "6 1 'Summary is somewhat relevant as it discusses financial advice related to securing an apartment, which aligns with MoneyLion's focus on financial education and services. However, it does not directly mention or relate to the specific products or services offered by MoneyLion\n",
      "SUMMARY : \n",
      "Securing the dream apartment? Don't forget to take photos before signing the lease, or you'll risk losing your security deposit. Plus, negotiate prorating move-in specials to save some serious cash! Cha-ching!\n",
      "Source video: 'Securing the Dream Apartment'\n",
      "summarizing for credit b\n"
     ]
    },
    {
     "name": "stderr",
     "output_type": "stream",
     "text": [
      "/var/folders/61/2rwy7p9d079bx4z7vh2tq6f80000gq/T/ipykernel_14376/3763612098.py:31: SettingWithCopyWarning: \n",
      "A value is trying to be set on a copy of a slice from a DataFrame.\n",
      "Try using .loc[row_indexer,col_indexer] = value instead\n",
      "\n",
      "See the caveats in the documentation: https://pandas.pydata.org/pandas-docs/stable/user_guide/indexing.html#returning-a-view-versus-a-copy\n",
      "  videos_df['productId'] = videos_df['productId'].str.split(' ').str[0]\n",
      "/var/folders/61/2rwy7p9d079bx4z7vh2tq6f80000gq/T/ipykernel_14376/3763612098.py:36: UserWarning: pandas only supports SQLAlchemy connectable (engine/connection) or database string URI or sqlite3 DBAPI2 connection. Other DBAPI2 objects are not tested. Please consider using SQLAlchemy.\n",
      "  video_metadata_df_1 = pd.read_sql_query(video_query, connection_sf)\n"
     ]
    },
    {
     "name": "stdout",
     "output_type": "stream",
     "text": [
      "8 1 Summary is relevant as it discusses building credit, which aligns with MoneyLion's Credit Builder Loans product and the content of the source video and some offers. However, it does not mention other key aspects of MoneyLion's services\n",
      "SUMMARY : \n",
      "Start building good credit early by piggybacking off someone else's credit card, or wait until you're 18 and start from scratch. Either way, you'll be on your way to a solid credit profile and getting that dream car! \n",
      "Source video: Boost Your Credit Before You're 18\n",
      "summarizing for roar mon\n"
     ]
    },
    {
     "name": "stderr",
     "output_type": "stream",
     "text": [
      "/var/folders/61/2rwy7p9d079bx4z7vh2tq6f80000gq/T/ipykernel_14376/3763612098.py:31: SettingWithCopyWarning: \n",
      "A value is trying to be set on a copy of a slice from a DataFrame.\n",
      "Try using .loc[row_indexer,col_indexer] = value instead\n",
      "\n",
      "See the caveats in the documentation: https://pandas.pydata.org/pandas-docs/stable/user_guide/indexing.html#returning-a-view-versus-a-copy\n",
      "  videos_df['productId'] = videos_df['productId'].str.split(' ').str[0]\n",
      "/var/folders/61/2rwy7p9d079bx4z7vh2tq6f80000gq/T/ipykernel_14376/3763612098.py:36: UserWarning: pandas only supports SQLAlchemy connectable (engine/connection) or database string URI or sqlite3 DBAPI2 connection. Other DBAPI2 objects are not tested. Please consider using SQLAlchemy.\n",
      "  video_metadata_df_1 = pd.read_sql_query(video_query, connection_sf)\n"
     ]
    },
    {
     "name": "stdout",
     "output_type": "stream",
     "text": [
      "retrying for roar mon\n",
      "8 1 'Summary is relevant as it pertains to one of the financial products (Life Insurance) that MoneyLion offers. However, it does not cover the full range of services and products offered by MoneyLion\n",
      "SUMMARY : \n",
      "\"Single and ready to mingle? Don't let that stop you from securing your future! Life insurance is cheaper when you're young and healthy, so get covered now and be prepared for whatever life throws your way!\"\n",
      "Source video: Single? Secure Your Future Now\n"
     ]
    }
   ],
   "source": [
    "for query in random_debounce_terms_list:\n",
    "    # if the query exists in the df, skip\n",
    "    if query in df_debounce['Query'].tolist() or not isinstance(query, str):\n",
    "        continue\n",
    "    # get universal search result\n",
    "    df_result = get_universal_search_result(query)\n",
    "    if not df_result.empty:\n",
    "        print(\"summarizing for \" + query)\n",
    "        # extract video metadata based on productId in videos\n",
    "        df_result_enriched = extract_video_metadata(df_result)\n",
    "        start_time = time.time()\n",
    "        while True:\n",
    "            summary, summary_length, offer_list, video_list = get_gpt_summary(df_result_enriched)\n",
    "            if len(summary.split()) <= 50:\n",
    "                end_time = time.time()\n",
    "                break\n",
    "            else:\n",
    "                print(\"retrying for \" + query)\n",
    "        execution_time = end_time - start_time\n",
    "        #evaluation\n",
    "        evaluation_prompt = EVALUATION_PROMPT.format(summary=summary, offer_list=offer_list, video_list=video_list)\n",
    "        m1, m2, m3 = (\"\", \"\", \"\")\n",
    "        while True:\n",
    "            try:\n",
    "                _response, evaluation_response_content = get_gpt_response(evaluation_prompt,temperature=0 , model = \"gpt-4\")\n",
    "\n",
    "                m1 = re.search(r\"result_rating=([0-9]+)\", evaluation_response_content).groups()[0]\n",
    "                m2 = re.search(r\"result_relevance=([0-1])\", evaluation_response_content).groups()[\n",
    "                    0\n",
    "                ]\n",
    "                m3 = re.search(r\"rating_reason=(.*)\\b\", evaluation_response_content).groups()[0]\n",
    "                if m1 and m2 and m3:\n",
    "                    print(m1, m2, m3)\n",
    "                    break\n",
    "            except:\n",
    "                print(f\"Retry evaluation for {query}\")\n",
    "                pass\n",
    "        new_data = pd.DataFrame({'Query': [query], 'Top 5 Offers': [offer_list], 'Top 5 Videos': [video_list], 'Summary': [summary], 'Summary_length': [summary_length], 'Rating': [m1], 'Relevance': [m2], 'Reason': [m3], 'Execution_Time': [execution_time]})\n",
    "        df_debounce = pd.concat([df_debounce, new_data], ignore_index=True)\n",
    "        print(\"SUMMARY : \\n\"+ summary)\n",
    "\n",
    "    else:\n",
    "        print(\"No result found, fail silently\")\n"
   ]
  },
  {
   "cell_type": "code",
   "execution_count": 257,
   "metadata": {},
   "outputs": [],
   "source": [
    "# categorize 'Query' back to its source list\n",
    "df_debounce['Query_Category'] = df_debounce['Query'].apply(lambda x: 'SEARCH_SUGGESTIONS_LIST' if x in SEARCH_SUGGESTIONS_LIST else ('ML_MAIN_PRODUCT' if x in ML_MAIN_PRODUCT else ('ML_3P_PRODUCT' if x in ML_3P_PRODUCT else 'RANDOM_SEARCH_TERM')))"
   ]
  },
  {
   "cell_type": "code",
   "execution_count": 258,
   "metadata": {},
   "outputs": [],
   "source": [
    "df_debounce.to_csv('../../debounce_summary_GENAI_SUMMARY_PROMPT_VIDEO.csv', index=False)"
   ]
  },
  {
   "cell_type": "markdown",
   "metadata": {},
   "source": [
    "### Single input testing\n",
    "Test out self inputs for summamrization module"
   ]
  },
  {
   "cell_type": "code",
   "execution_count": 242,
   "metadata": {},
   "outputs": [
    {
     "name": "stderr",
     "output_type": "stream",
     "text": [
      "/var/folders/61/2rwy7p9d079bx4z7vh2tq6f80000gq/T/ipykernel_14376/3763612098.py:31: SettingWithCopyWarning: \n",
      "A value is trying to be set on a copy of a slice from a DataFrame.\n",
      "Try using .loc[row_indexer,col_indexer] = value instead\n",
      "\n",
      "See the caveats in the documentation: https://pandas.pydata.org/pandas-docs/stable/user_guide/indexing.html#returning-a-view-versus-a-copy\n",
      "  videos_df['productId'] = videos_df['productId'].str.split(' ').str[0]\n",
      "/var/folders/61/2rwy7p9d079bx4z7vh2tq6f80000gq/T/ipykernel_14376/3763612098.py:36: UserWarning: pandas only supports SQLAlchemy connectable (engine/connection) or database string URI or sqlite3 DBAPI2 connection. Other DBAPI2 objects are not tested. Please consider using SQLAlchemy.\n",
      "  video_metadata_df_1 = pd.read_sql_query(video_query, connection_sf)\n"
     ]
    },
    {
     "name": "stdout",
     "output_type": "stream",
     "text": [
      "FINAL SUMMARY : \n",
      "Boost your money life with RoarMoney! Transfer cash instantly, pay friends for Taco Time, and add funds on a custom schedule. It's like having a powerful account that roars!\n",
      "Source video: 3 NEW WAYS TO BOOST YOUR MONEY LIFE\n",
      "TOTAL CHARACTERS : 223\n"
     ]
    }
   ],
   "source": [
    "query = input()\n",
    "# get universal search result\n",
    "df_result = get_universal_search_result(query)\n",
    "if not df_result.empty:\n",
    "    # extract video metadata based on productId in videos\n",
    "    df_result_enriched = extract_video_metadata(df_result)\n",
    "    summary, summary_length, offer_list, video_list = get_gpt_summary(df_result_enriched)\n",
    "    # check if summary length is > 200 characters or 50 words\n",
    "    print(\"FINAL SUMMARY : \\n\"+ summary)\n",
    "    print(\"TOTAL CHARACTERS : \" + str(summary_length))\n",
    "\n",
    "else:\n",
    "    print(\"No result found, fail silently\")\n"
   ]
  },
  {
   "cell_type": "code",
   "execution_count": null,
   "metadata": {},
   "outputs": [],
   "source": []
  }
 ],
 "metadata": {
  "kernelspec": {
   "display_name": "gai_srch_summarization_p39",
   "language": "python",
   "name": "python3"
  },
  "language_info": {
   "codemirror_mode": {
    "name": "ipython",
    "version": 3
   },
   "file_extension": ".py",
   "mimetype": "text/x-python",
   "name": "python",
   "nbconvert_exporter": "python",
   "pygments_lexer": "ipython3",
   "version": "3.9.18"
  },
  "orig_nbformat": 4
 },
 "nbformat": 4,
 "nbformat_minor": 2
}
